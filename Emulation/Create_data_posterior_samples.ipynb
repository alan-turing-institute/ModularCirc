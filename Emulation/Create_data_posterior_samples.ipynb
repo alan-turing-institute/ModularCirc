{
 "cells": [
  {
   "cell_type": "markdown",
   "metadata": {},
   "source": [
    "### Batch Runner of ModularCirc\n",
    "\n",
    "This file samples the input parameters of the Korakianitis model then batch solves this using ModularCirc. The raw output, pressure traces, cardiac output are all saved. Additionally a PCA is run on the pressure traces and are also saved."
   ]
  },
  {
   "cell_type": "code",
   "execution_count": 1,
   "metadata": {},
   "outputs": [],
   "source": [
    "from ModularCirc.Models.KorakianitisMixedModel import KorakianitisMixedModel, KorakianitisMixedModel_parameters, TEMPLATE_TIME_SETUP_DICT\n",
    "import numpy as np\n",
    "import pandas as pd\n",
    "import os\n",
    "import matplotlib.pyplot as plt"
   ]
  },
  {
   "cell_type": "code",
   "execution_count": 2,
   "metadata": {},
   "outputs": [],
   "source": [
    "from ModularCirc import BatchRunner"
   ]
  },
  {
   "cell_type": "code",
   "execution_count": 3,
   "metadata": {},
   "outputs": [],
   "source": [
    "br = BatchRunner('Sobol', 0) \n",
    "#'LHS' : LatinHypercube,\n",
    "#'Sobol' : Sobol,\n",
    "#'Halton': Halton,"
   ]
  },
  {
   "cell_type": "code",
   "execution_count": 4,
   "metadata": {},
   "outputs": [
    {
     "data": {
      "text/plain": [
       "'/Users/pmzff/Documents/GitHub/ModularCirc/Emulation'"
      ]
     },
     "execution_count": 4,
     "metadata": {},
     "output_type": "execute_result"
    }
   ],
   "source": [
    "path = os.getcwd()\n",
    "path"
   ]
  },
  {
   "cell_type": "code",
   "execution_count": 5,
   "metadata": {},
   "outputs": [
    {
     "ename": "FileNotFoundError",
     "evalue": "[Errno 2] No such file or directory: 'parameters_pulmonary_sensitive.json'",
     "output_type": "error",
     "traceback": [
      "\u001b[0;31m---------------------------------------------------------------------------\u001b[0m",
      "\u001b[0;31mFileNotFoundError\u001b[0m                         Traceback (most recent call last)",
      "Cell \u001b[0;32mIn[5], line 2\u001b[0m\n\u001b[1;32m      1\u001b[0m \u001b[38;5;66;03m# Parameters_01 = Korakianitis Model\u001b[39;00m\n\u001b[0;32m----> 2\u001b[0m \u001b[43mbr\u001b[49m\u001b[38;5;241;43m.\u001b[39;49m\u001b[43msetup_sampler\u001b[49m\u001b[43m(\u001b[49m\u001b[38;5;124;43m'\u001b[39;49m\u001b[38;5;124;43mparameters_pulmonary_sensitive.json\u001b[39;49m\u001b[38;5;124;43m'\u001b[39;49m\u001b[43m)\u001b[49m\n",
      "File \u001b[0;32m/opt/anaconda3/envs/ModularCirc/lib/python3.12/site-packages/ModularCirc/_BatchRunner.py:29\u001b[0m, in \u001b[0;36m_BatchRunner.setup_sampler\u001b[0;34m(self, template_json)\u001b[0m\n\u001b[1;32m     28\u001b[0m \u001b[38;5;28;01mdef\u001b[39;00m \u001b[38;5;21msetup_sampler\u001b[39m(\u001b[38;5;28mself\u001b[39m, template_json):\n\u001b[0;32m---> 29\u001b[0m     \u001b[38;5;28;01mwith\u001b[39;00m \u001b[38;5;28;43mopen\u001b[39;49m\u001b[43m(\u001b[49m\u001b[43mtemplate_json\u001b[49m\u001b[43m)\u001b[49m \u001b[38;5;28;01mas\u001b[39;00m file:\n\u001b[1;32m     30\u001b[0m         \u001b[38;5;28mself\u001b[39m\u001b[38;5;241m.\u001b[39m_template : \u001b[38;5;28mdict\u001b[39m \u001b[38;5;241m=\u001b[39m json\u001b[38;5;241m.\u001b[39mload(file)\n\u001b[1;32m     31\u001b[0m     \u001b[38;5;28mself\u001b[39m\u001b[38;5;241m.\u001b[39m_parameters_2_sample \u001b[38;5;241m=\u001b[39m \u001b[38;5;28mdict\u001b[39m()\n",
      "\u001b[0;31mFileNotFoundError\u001b[0m: [Errno 2] No such file or directory: 'parameters_pulmonary_sensitive.json'"
     ]
    }
   ],
   "source": [
    "# Parameters_01 = Korakianitis Model\n",
    "br.setup_sampler('parameters_pulmonary_sensitive.json')"
   ]
  },
  {
   "cell_type": "code",
   "execution_count": null,
   "metadata": {},
   "outputs": [],
   "source": [
    "# Set number of samples \n",
    "n_sample = 100\n",
    "br.sample(n_sample)"
   ]
  },
  {
   "cell_type": "code",
   "execution_count": null,
   "metadata": {},
   "outputs": [],
   "source": [
    "br._samples"
   ]
  },
  {
   "cell_type": "code",
   "execution_count": null,
   "metadata": {},
   "outputs": [],
   "source": [
    "n_sample = 5000\n",
    "n_params = 6\n",
    "sample_name = 'waveform'\n",
    "\n",
    "output_dir = f\"../Results/{n_sample}_{n_params}params\"\n",
    "\n",
    "posterior_samples = pd.read_csv(f\"{output_dir}/posterior_samples_{sample_name}.csv\")\n",
    "\n",
    "# remove any #s from column names\n",
    "posterior_samples.columns = posterior_samples.columns.str.lstrip('#').str.strip()\n",
    "\n",
    "for i, col in enumerate(br._samples.columns[:len(posterior_samples.columns)]):\n",
    "    br._samples.loc[:, col] = posterior_samples.loc[:,col]\n",
    "\n",
    "br.samples"
   ]
  },
  {
   "cell_type": "code",
   "execution_count": null,
   "metadata": {},
   "outputs": [],
   "source": [
    "posterior_samples"
   ]
  },
  {
   "cell_type": "code",
   "execution_count": null,
   "metadata": {},
   "outputs": [],
   "source": [
    "TEMPLATE_TIME_SETUP_DICT"
   ]
  },
  {
   "cell_type": "code",
   "execution_count": null,
   "metadata": {},
   "outputs": [],
   "source": [
    "map_ = {\n",
    "    'delay' : ['la.delay', 'ra.delay'],\n",
    "    'td0'   : ['lv.td0',   'rv.td0' ],\n",
    "    'tr'    : ['lv.tr',    'rv.tr'  ],\n",
    "    'tpww'  : ['la.tpww',  'ra.tpww'],\n",
    "}\n",
    "br.map_sample_timings(\n",
    "    ref_time=1.,\n",
    "    map=map_\n",
    "    )"
   ]
  },
  {
   "cell_type": "code",
   "execution_count": null,
   "metadata": {},
   "outputs": [],
   "source": [
    "br._samples[['lv.td', 'rv.td']] = br._samples[['lv.tr', 'rv.tr']].values + br._samples[['lv.td0', 'rv.td0']].values\n",
    "br._samples.drop(['lv.td0', 'rv.td0'], axis=1, inplace=True)"
   ]
  },
  {
   "cell_type": "code",
   "execution_count": null,
   "metadata": {},
   "outputs": [],
   "source": [
    "br.samples"
   ]
  },
  {
   "cell_type": "code",
   "execution_count": null,
   "metadata": {},
   "outputs": [],
   "source": [
    "# count number of sampled parameters\n",
    "relevant_columns = []\n",
    "for col in br.samples.columns:\n",
    "    relevant_columns.append(col)\n",
    "    if col == 'T': break\n",
    "\n",
    "n_params = len(relevant_columns)"
   ]
  },
  {
   "cell_type": "code",
   "execution_count": null,
   "metadata": {},
   "outputs": [],
   "source": [
    "br.map_vessel_volume()\n"
   ]
  },
  {
   "cell_type": "code",
   "execution_count": null,
   "metadata": {},
   "outputs": [],
   "source": [
    "br.setup_model(model=KorakianitisMixedModel, po=KorakianitisMixedModel_parameters, time_setup=TEMPLATE_TIME_SETUP_DICT)"
   ]
  },
  {
   "cell_type": "code",
   "execution_count": null,
   "metadata": {},
   "outputs": [],
   "source": [
    "input_header = ','.join(br.samples.columns)\n",
    "input_header"
   ]
  },
  {
   "cell_type": "code",
   "execution_count": null,
   "metadata": {},
   "outputs": [],
   "source": [
    "# Save sampled inputs to CSV\n",
    "np.savetxt(f'{output_dir}/posterior_{sample_name}_full.csv', br.samples, header=input_header, delimiter=',')"
   ]
  },
  {
   "cell_type": "code",
   "execution_count": null,
   "metadata": {},
   "outputs": [],
   "source": [
    "os.system(f'mkdir -p {output_dir}/Posterior_Simulations/posterior_sim_{sample_name}')\n",
    "test = br.run_batch(n_jobs=5, output_path=f'{output_dir}/Posterior_Simulations/posterior_sim_{sample_name}')"
   ]
  },
  {
   "cell_type": "code",
   "execution_count": null,
   "metadata": {},
   "outputs": [],
   "source": [
    "test"
   ]
  },
  {
   "cell_type": "markdown",
   "metadata": {},
   "source": [
    "### Some of the simulations will not converge"
   ]
  },
  {
   "cell_type": "code",
   "execution_count": null,
   "metadata": {},
   "outputs": [],
   "source": [
    "# Check for bool values in the list\n",
    "bool_indices = [index for index, value in enumerate(test) if isinstance(value, bool)]\n",
    "\n",
    "if bool_indices:\n",
    "    print(f\"Boolean values found at indices: {bool_indices}\")\n",
    "    print(f\"Number of Booleans = {len(bool_indices)}\")\n",
    "else:\n",
    "    print(\"No boolean values found in the list.\")"
   ]
  },
  {
   "cell_type": "code",
   "execution_count": null,
   "metadata": {},
   "outputs": [],
   "source": [
    "## Create directory for pessure traces \n",
    "os.system(f'mkdir -p {output_dir}/Posterior_Simulations/posterior_sim_{sample_name}/pressure_traces_pat')\n",
    "os.system(f'mkdir -p {output_dir}/Posterior_Simulations/posterior_sim_{sample_name}/pressure_traces_rv')"
   ]
  },
  {
   "cell_type": "markdown",
   "metadata": {},
   "source": [
    "### Save feasible pressure traces, CO and dt, dPAP, sPAP, mPAP"
   ]
  },
  {
   "cell_type": "code",
   "execution_count": null,
   "metadata": {},
   "outputs": [],
   "source": [
    "# screen determines whetehr to screen for non-physiological pressure traces\n",
    "screen = False"
   ]
  },
  {
   "cell_type": "code",
   "execution_count": null,
   "metadata": {},
   "outputs": [],
   "source": [
    "# Create column headers\n",
    "headers = list(range(100)) + ['CO', 'dt', 'EF', 'dPAP', 'sPAP', 'mPAP'] \n",
    "\n",
    "# List to collect all pressure traces\n",
    "pressure_traces_list_pat = []\n",
    "pressure_traces_list_rv = []\n",
    "\n",
    "for ind in range(len(test)):\n",
    "    if not isinstance(test[ind], bool):\n",
    "     \n",
    "     # PAT pressure\n",
    "     p_pat_raw = test[ind].loc[ind]['p_pat'].values.copy()\n",
    "     \n",
    "     # RV pressure \n",
    "     p_rv_raw = test[ind].loc[ind]['p_rv'].values.copy()\n",
    "\n",
    "     T = test[ind].loc[ind]['T'].values.copy()\n",
    "     T_resample = np.linspace(T[0], T[-1], 100)\n",
    "\n",
    "     # Interpolate pressure for 100 timesteps from 1000\n",
    "     p_pat_resampled = np.interp(T_resample, T, p_pat_raw)\n",
    "     p_rv_resampled = np.interp(T_resample, T, p_rv_raw)\n",
    "\n",
    "     # Compute CO\n",
    "     q_pat = test[ind].loc[ind]['q_pat'].values.copy()\n",
    "     CO = np.sum(q_pat) * (T[1] - T[0]) / (T[-1] - T[0]) * 60. / 1000.  # L / min\n",
    "\n",
    "     # Compute EF\n",
    "     v_rv = test[ind].loc[ind]['v_rv'].values.copy()\n",
    "     EF = (np.max(v_rv) - np.min(v_rv)) / np.max(v_rv)\n",
    "\n",
    "     # Compute dPAP, sPAP, mPAP\n",
    "     dPAP = min(p_rv_raw)\n",
    "     sPAP = max(p_rv_raw)\n",
    "     mPAP = np.mean(p_rv_raw)\n",
    "    \n",
    "     # Record time interval, approx T (input param) / 100, there are some rounding differences due to interpolation\n",
    "     tl = T_resample - test[ind].loc[ind]['T'].iloc[0]\n",
    "     dt = np.diff(tl)[0]\n",
    "\n",
    "     \n",
    "     # Only create array if conditions hold or screening is turned off\n",
    "     if not screen or (2 < CO < 12 and 4 < dPAP < 67 and 9 < mPAP < 87 and 15 < sPAP < 140):\n",
    "     \n",
    "     # Create a 2D array for saving\n",
    "        pressure_trace_pat = np.hstack((p_pat_resampled, [CO], [dt], [EF], [dPAP], [sPAP], [mPAP]))\n",
    "        pressure_trace_rv = np.hstack((p_rv_resampled, [CO], [dt], [EF], [dPAP], [sPAP], [mPAP]))\n",
    "        pressure_traces_list_pat.append(pressure_trace_pat)\n",
    "        pressure_traces_list_rv.append(pressure_trace_rv)\n",
    "        \n",
    "        # Save individual pressure trace to CSV with headers\n",
    "        individual_df_pat = pd.DataFrame([pressure_trace_pat], columns=headers)\n",
    "        individual_df_pat.to_csv(f'{output_dir}/Posterior_Simulations/posterior_sim_{sample_name}/pressure_traces_pat/pressuretrace_{ind}.csv', index=False)\n",
    "        individual_df_rv = pd.DataFrame([pressure_trace_rv], columns=headers)\n",
    "        individual_df_rv.to_csv(f'{output_dir}/Posterior_Simulations/posterior_sim_{sample_name}/pressure_traces_rv/pressuretrace_{ind}.csv', index=False)\n",
    "\n",
    "# Convert the list of pressure traces to a DataFrame\n",
    "pressure_traces_df_pat = pd.DataFrame(pressure_traces_list_pat, columns=headers)\n",
    "pressure_traces_df_rv = pd.DataFrame(pressure_traces_list_rv, columns=headers)\n",
    "\n",
    "# Save the DataFrame to a single CSV file with headers\n",
    "pressure_traces_df_pat.to_csv(f'{output_dir}/Posterior_Simulations/posterior_sim_{sample_name}/pressure_traces_pat/all_pressure_traces_pat.csv', index=False)\n",
    "pressure_traces_df_rv.to_csv(f'{output_dir}/Posterior_Simulations/posterior_sim_{sample_name}/pressure_traces_rv/all_pressure_traces_rv.csv', index=False)"
   ]
  }
 ],
 "metadata": {
  "kernelspec": {
   "display_name": "ModularCirc",
   "language": "python",
   "name": "python3"
  },
  "language_info": {
   "codemirror_mode": {
    "name": "ipython",
    "version": 3
   },
   "file_extension": ".py",
   "mimetype": "text/x-python",
   "name": "python",
   "nbconvert_exporter": "python",
   "pygments_lexer": "ipython3",
   "version": "3.12.7"
  }
 },
 "nbformat": 4,
 "nbformat_minor": 2
}
