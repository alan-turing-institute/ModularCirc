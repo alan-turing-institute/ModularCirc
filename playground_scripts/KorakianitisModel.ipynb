{
 "cells": [
  {
   "cell_type": "code",
   "execution_count": null,
   "metadata": {},
   "outputs": [],
   "source": [
    "%load_ext autoreload \n",
    "%autoreload 2\n",
    "!pwd"
   ]
  },
  {
   "cell_type": "code",
   "execution_count": null,
   "metadata": {},
   "outputs": [],
   "source": [
    "import numpy as np\n",
    "import json\n",
    "from ModularCirc.Models.KorakianitisModel import KorakianitisModel\n",
    "from ModularCirc.Models.KorakianitisModel_parameters import KorakianitisModel_parameters\n",
    "from ModularCirc.Solver import Solver\n",
    "\n",
    "# from ModularCirc.Models.KorakianitisMaynardModel import KorakianitisMaynardModel\n",
    "# from ModularCirc.Models.KorakianitisMaynardModel_parameters import KorakianitisMaynardModel_parameters\n",
    "\n",
    "# from ModularCirc.Models.KorakianitisMixedModel import KorakianitisMixedModel\n",
    "# from ModularCirc.Models.KorakianitisMixedModel_parameters import KorakianitisMixedModel_parameters\n",
    "\n",
    "# from ModularCirc.Models.KorakianitisMixedMaynardModel import KorakianitisMixedMaynardModel\n",
    "# from ModularCirc.Models.KorakianitisMixedMaynardModel_parameters import KorakianitisMixedMaynardModel_parameters"
   ]
  },
  {
   "cell_type": "code",
   "execution_count": null,
   "metadata": {},
   "outputs": [],
   "source": [
    "time_setup_dict = {\n",
    "            'name': 'TimeTest',\n",
    "            'ncycles': 40,\n",
    "            'tcycle': 1.0,\n",
    "            'dt': 0.001,\n",
    "            'export_min': 1\n",
    "        }"
   ]
  },
  {
   "cell_type": "code",
   "execution_count": null,
   "metadata": {},
   "outputs": [],
   "source": [
    "# Initializing the parameter object\n",
    "parobj = KorakianitisModel_parameters()\n",
    "\n",
    "# Initializing the model \n",
    "model = KorakianitisModel(time_setup_dict=time_setup_dict, \n",
    "                          parobj=parobj, \n",
    "                          supress_printing=True)"
   ]
  },
  {
   "cell_type": "code",
   "execution_count": null,
   "metadata": {},
   "outputs": [],
   "source": [
    "# Initializing the solver\n",
    "solver = Solver(model=model)\n",
    "# Solver is being setup: switching off console printing and setting the solver method to \"LSODA\"\n",
    "solver.setup(suppress_output=True, \n",
    "             method='LSODA')\n",
    "\n",
    "initial_values = {}\n",
    "\n",
    "# Define the indexes of the equivalent to the last cycles\n",
    "tind_init  = np.arange(start=model.time_object.n_t-model.time_object.n_c * model.time_object.export_min,\n",
    "                        stop=model.time_object.n_t)"
   ]
  },
  {
   "cell_type": "code",
   "execution_count": null,
   "metadata": {},
   "outputs": [],
   "source": [
    "# From each of the components, retrieve the volume (<V>), pressure (<P_i>) and flow (<Q_i>)\n",
    "for key, value in model.components.items():\n",
    "    initial_values[key] = {\n",
    "        'V': value.V.values[tind_init].mean(),\n",
    "        'P_i': value.P_i.values[tind_init].mean(),\n",
    "        'Q_i': value.Q_i.values[tind_init].mean()\n",
    "    }"
   ]
  },
  {
   "cell_type": "code",
   "execution_count": null,
   "metadata": {},
   "outputs": [],
   "source": [
    "# Running the model\n",
    "solver.solve()"
   ]
  },
  {
   "cell_type": "code",
   "execution_count": null,
   "metadata": {},
   "outputs": [],
   "source": [
    "# # Redefine tind based on how many heart cycle have actually been necessary to reach steady state\n",
    "# tind_fin  = np.arange(start=model.time_object.n_t-model.time_object.n_c * model.time_object.export_min,\n",
    "#                            stop=model.time_object.n_t)\n",
    "\n",
    "# # Retrieve the component state variables, compute the mean of the values during the last cycle and store them within\n",
    "# # the new solution dictionary\n",
    "# new_dict = {}\n",
    "# for key, value in model.components.items():\n",
    "\n",
    "#     new_dict[key] = {\n",
    "#         'V': value.V.values[tind_fin].mean(),\n",
    "#         'P_i': value.P_i.values[tind_fin].mean(),\n",
    "#         'Q_i': value.Q_i.values[tind_fin].mean()\n",
    "#     }"
   ]
  },
  {
   "cell_type": "code",
   "execution_count": null,
   "metadata": {},
   "outputs": [],
   "source": [
    "model.time_object.export_min"
   ]
  },
  {
   "cell_type": "code",
   "execution_count": null,
   "metadata": {},
   "outputs": [],
   "source": [
    "tind_init"
   ]
  },
  {
   "cell_type": "code",
   "execution_count": null,
   "metadata": {},
   "outputs": [],
   "source": [
    "model.components['la'].P_i.values"
   ]
  },
  {
   "cell_type": "code",
   "execution_count": null,
   "metadata": {},
   "outputs": [],
   "source": [
    "model.components.values()"
   ]
  },
  {
   "cell_type": "code",
   "execution_count": null,
   "metadata": {},
   "outputs": [],
   "source": [
    "import json\n",
    "\n",
    "# Expected values from a previous run\n",
    "expected_values = {'la': {'V': 126.38884973, 'P_i': 1.9049962, 'Q_i': 85.55031592}, 'mi': {'V': 0.0, 'P_i': 1.9049962851, 'Q_i': 85.1636944244}, 'lv': {'V': 78.92264366, 'P_i': 35.6800612, 'Q_i': 85.16369442}, 'ao': {'V': 0.0, 'P_i': 35.6800612, 'Q_i': 85.72479065}, 'sas': {'V': 7.9275133, 'P_i': 99.0939162631, 'Q_i': 85.724790652}, 'sat': {'V': 158.13864426, 'P_i': 98.83665266, 'Q_i': 85.74867979}, 'svn': {'V': 145.49804915, 'P_i': 7.09746581, 'Q_i': 85.73761272}, 'ra': {'V': 53.83474153, 'P_i': 0.73421251, 'Q_i': 84.8433774}, 'ti': {'V': 0.0, 'P_i': 0.73421251, 'Q_i': 84.58031928}, 'rv': {'V': 66.10678226, 'P_i': 11.48872347, 'Q_i': 84.58031928}, 'po': {'V': 0.0, 'P_i': 11.48872347, 'Q_i': 83.979334974}, 'pas': {'V': 5.16689938, 'P_i': 28.704996546, 'Q_i': 83.97933499}, 'pat': {'V': 108.44076581847, 'P_i': 28.53704363, 'Q_i': 83.97564173}, 'pvn': {'V': 49.57511092, 'P_i': 2.41829809, 'Q_i': 84.254321165}}\n",
    "\n",
    "# Save expected values to a JSON file\n",
    "with open('../tests/expected_outputs/KorakianitisMixedModel_expected_output.json', 'w') as f:\n",
    "    json.dump(expected_values, f, indent=4)"
   ]
  }
 ],
 "metadata": {
  "kernelspec": {
   "display_name": "venv",
   "language": "python",
   "name": "python3"
  },
  "language_info": {
   "codemirror_mode": {
    "name": "ipython",
    "version": 3
   },
   "file_extension": ".py",
   "mimetype": "text/x-python",
   "name": "python",
   "nbconvert_exporter": "python",
   "pygments_lexer": "ipython3",
   "version": "3.12.4"
  }
 },
 "nbformat": 4,
 "nbformat_minor": 2
}
