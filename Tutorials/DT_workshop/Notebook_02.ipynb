{
 "cells": [
  {
   "cell_type": "markdown",
   "metadata": {},
   "source": [
    "## Compare two parametrisations of the Naghavi model"
   ]
  },
  {
   "cell_type": "markdown",
   "metadata": {},
   "source": [
    "[The 2024 Naghavi et al article](https://pubmed.ncbi.nlm.nih.gov/39442244/) discusses the effects of Dobutamine which is a medication that treats heart failure by strengthening the heart muscle. They observe a change in parameter `E_es` - the end-systolic elastance of the left ventricle.\n",
    "\n",
    "In this notebook, we can tweak the `E_act` parameter of the left ventricle in the Naghavi model instantiated in ModularCirc, which is related to `E_es`. We will observe a change in the resulting pressure-volume loop. "
   ]
  },
  {
   "cell_type": "code",
   "execution_count": 24,
   "metadata": {},
   "outputs": [],
   "source": [
    "from ModularCirc.Models.NaghaviModelParameters import NaghaviModelParameters\n",
    "from ModularCirc.Models.NaghaviModel import NaghaviModel\n",
    "from ModularCirc.Solver import Solver\n",
    "from ModularCirc.Analysis.BaseAnalysis import BaseAnalysis\n",
    "import matplotlib.pyplot as plt\n",
    "\n",
    "TIME_SETUP_DICT = {\n",
    "        'name'       :  'TimeTest', # the name asssociated with the temporal discretization (not super important.. names internal variable)\n",
    "        'ncycles'    :  30,         # the maximum number of cycles for which we run the simulation\n",
    "        'tcycle'     :  1000.,      # the duration of a heart beat (here in ms)\n",
    "        'dt'         :  1.0,        # the duration of a discrete time step\n",
    "        'export_min' :  2           # number of time steps for which we export the simulation (can also be used as a way to impose a minimum number of pulses)\n",
    "    }"
   ]
  },
  {
   "cell_type": "markdown",
   "metadata": {},
   "source": [
    "Set up two parameter objects, with differing `E_act` values for the left ventricle."
   ]
  },
  {
   "cell_type": "code",
   "execution_count": 25,
   "metadata": {},
   "outputs": [
    {
     "data": {
      "text/plain": [
       "5"
      ]
     },
     "execution_count": 25,
     "metadata": {},
     "output_type": "execute_result"
    }
   ],
   "source": [
    "po_1 = NaghaviModelParameters()\n",
    "\n",
    "po_1.set_chamber_comp('lv', E_act=5)\n",
    "\n",
    "po_1['lv']['E_act']"
   ]
  },
  {
   "cell_type": "code",
   "execution_count": 26,
   "metadata": {},
   "outputs": [
    {
     "data": {
      "text/plain": [
       "1"
      ]
     },
     "execution_count": 26,
     "metadata": {},
     "output_type": "execute_result"
    }
   ],
   "source": [
    "po_2 = NaghaviModelParameters()\n",
    "\n",
    "po_2.set_chamber_comp('lv', E_act=1)\n",
    "\n",
    "po_2['lv']['E_act']"
   ]
  },
  {
   "cell_type": "markdown",
   "metadata": {},
   "source": [
    "Instantiate two models, passing the corresponding parameter objects."
   ]
  },
  {
   "cell_type": "code",
   "execution_count": 27,
   "metadata": {},
   "outputs": [],
   "source": [
    "model_1 = NaghaviModel(\n",
    "    time_setup_dict=TIME_SETUP_DICT,\n",
    "    suppress_printing=True,\n",
    "    parobj=po_1,\n",
    "    )\n",
    "\n",
    "model_2 = NaghaviModel(\n",
    "    time_setup_dict=TIME_SETUP_DICT,\n",
    "    suppress_printing=True,\n",
    "    parobj=po_2,\n",
    "    )"
   ]
  },
  {
   "cell_type": "code",
   "execution_count": 28,
   "metadata": {},
   "outputs": [
    {
     "name": "stdout",
     "output_type": "stream",
     "text": [
      "True\n",
      "5\n"
     ]
    }
   ],
   "source": [
    "solver_1 = Solver(model=model_1)\n",
    "\n",
    "solver_1.setup(\n",
    "    optimize_secondary_sv=False,\n",
    "    suppress_output=True,\n",
    "    step_tol=0.001,\n",
    "    conv_cols=['p_lv', 'v_lv'],\n",
    "    method='LSODA'                       # 'LSODA' 'BDF\n",
    ")\n",
    "\n",
    "solver_1.solve()\n",
    "print(solver_1.converged)\n",
    "print(solver_1.Nconv)"
   ]
  },
  {
   "cell_type": "code",
   "execution_count": 29,
   "metadata": {},
   "outputs": [
    {
     "name": "stdout",
     "output_type": "stream",
     "text": [
      "True\n",
      "11\n"
     ]
    }
   ],
   "source": [
    "solver_2 = Solver(model=model_2)\n",
    "\n",
    "solver_2.setup(\n",
    "    optimize_secondary_sv=False,\n",
    "    suppress_output=True,\n",
    "    step_tol=0.001,\n",
    "    conv_cols=['p_lv', 'v_lv'],\n",
    "    method='LSODA'                       # 'LSODA' 'BDF\n",
    ")\n",
    "\n",
    "solver_2.solve()\n",
    "print(solver_2.converged)\n",
    "print(solver_2.Nconv)"
   ]
  },
  {
   "cell_type": "code",
   "execution_count": 30,
   "metadata": {},
   "outputs": [
    {
     "data": {
      "application/vnd.microsoft.datawrangler.viewer.v0+json": {
       "columns": [
        {
         "name": "index",
         "rawType": "int64",
         "type": "integer"
        },
        {
         "name": "v_lv",
         "rawType": "float64",
         "type": "float"
        }
       ],
       "ref": "fe66ca7f-b13a-4827-a835-ea40c1703210",
       "rows": [
        [
         "0",
         "104.0"
        ],
        [
         "1",
         "108.90665255105638"
        ],
        [
         "2",
         "112.45608798309644"
        ],
        [
         "3",
         "115.00768622428672"
        ],
        [
         "4",
         "116.78871501636274"
        ],
        [
         "5",
         "117.95775847257171"
        ],
        [
         "6",
         "118.63146010108514"
        ],
        [
         "7",
         "118.89789124448215"
        ],
        [
         "8",
         "118.90899127471135"
        ],
        [
         "9",
         "118.90899127471135"
        ],
        [
         "10",
         "118.90899127471135"
        ],
        [
         "11",
         "118.90899127471135"
        ],
        [
         "12",
         "118.90899127471135"
        ],
        [
         "13",
         "118.90899127471135"
        ],
        [
         "14",
         "118.90899127471135"
        ],
        [
         "15",
         "118.90899127471135"
        ],
        [
         "16",
         "118.90899127471135"
        ],
        [
         "17",
         "118.90899127471135"
        ],
        [
         "18",
         "118.90899127471135"
        ],
        [
         "19",
         "118.90899127471135"
        ],
        [
         "20",
         "118.90899127471135"
        ],
        [
         "21",
         "118.90899127471135"
        ],
        [
         "22",
         "118.90899127471135"
        ],
        [
         "23",
         "118.90899127471135"
        ],
        [
         "24",
         "118.90899127471135"
        ],
        [
         "25",
         "118.90899127471135"
        ],
        [
         "26",
         "118.90899127471135"
        ],
        [
         "27",
         "118.90899127471135"
        ],
        [
         "28",
         "118.90899127471135"
        ],
        [
         "29",
         "118.90899127471135"
        ],
        [
         "30",
         "118.90899127471135"
        ],
        [
         "31",
         "118.90899127471135"
        ],
        [
         "32",
         "118.90899127471135"
        ],
        [
         "33",
         "118.90899127471135"
        ],
        [
         "34",
         "118.90899127471135"
        ],
        [
         "35",
         "118.90899127471135"
        ],
        [
         "36",
         "118.72753652499979"
        ],
        [
         "37",
         "118.16762683471855"
        ],
        [
         "38",
         "117.41321954704358"
        ],
        [
         "39",
         "116.55892015310695"
        ],
        [
         "40",
         "115.65022192683308"
        ],
        [
         "41",
         "114.70926041647827"
        ],
        [
         "42",
         "113.74705887043852"
        ],
        [
         "43",
         "112.76939272633336"
        ],
        [
         "44",
         "111.77955528959593"
        ],
        [
         "45",
         "110.77967185070914"
        ],
        [
         "46",
         "109.77131676397468"
        ],
        [
         "47",
         "108.75579592012446"
        ],
        [
         "48",
         "107.73427864755976"
        ],
        [
         "49",
         "106.70785908534805"
        ]
       ],
       "shape": {
        "columns": 1,
        "rows": 6001
       }
      },
      "text/plain": [
       "0       104.000000\n",
       "1       108.906653\n",
       "2       112.456088\n",
       "3       115.007686\n",
       "4       116.788715\n",
       "           ...    \n",
       "5996     99.809330\n",
       "5997     99.850974\n",
       "5998     99.887884\n",
       "5999     99.920118\n",
       "6000     99.947741\n",
       "Name: v_lv, Length: 6001, dtype: float64"
      ]
     },
     "execution_count": 30,
     "metadata": {},
     "output_type": "execute_result"
    }
   ],
   "source": [
    "model_1.components['lv'].V"
   ]
  },
  {
   "cell_type": "code",
   "execution_count": 31,
   "metadata": {},
   "outputs": [
    {
     "data": {
      "application/vnd.microsoft.datawrangler.viewer.v0+json": {
       "columns": [
        {
         "name": "index",
         "rawType": "int64",
         "type": "integer"
        },
        {
         "name": "v_lv",
         "rawType": "float64",
         "type": "float"
        }
       ],
       "ref": "3adaa760-6577-4794-8584-d035bb3eb510",
       "rows": [
        [
         "0",
         "104.0"
        ],
        [
         "1",
         "108.90994513410078"
        ],
        [
         "2",
         "112.48184995341744"
        ],
        [
         "3",
         "115.09229710821707"
        ],
        [
         "4",
         "116.98303526292356"
        ],
        [
         "5",
         "118.32425547169488"
        ],
        [
         "6",
         "119.2415765041344"
        ],
        [
         "7",
         "119.82983558125248"
        ],
        [
         "8",
         "120.16134494774559"
        ],
        [
         "9",
         "120.291437331656"
        ],
        [
         "10",
         "120.29785808242633"
        ],
        [
         "11",
         "120.29785808242633"
        ],
        [
         "12",
         "120.29785808242633"
        ],
        [
         "13",
         "120.29785808242633"
        ],
        [
         "14",
         "120.29785808242633"
        ],
        [
         "15",
         "120.29785808242633"
        ],
        [
         "16",
         "120.29785808242633"
        ],
        [
         "17",
         "120.29785808242633"
        ],
        [
         "18",
         "120.29785808242633"
        ],
        [
         "19",
         "120.29785808242633"
        ],
        [
         "20",
         "120.29785808242633"
        ],
        [
         "21",
         "120.29785808242633"
        ],
        [
         "22",
         "120.29785808242633"
        ],
        [
         "23",
         "120.29785808242633"
        ],
        [
         "24",
         "120.29785808242633"
        ],
        [
         "25",
         "120.29785808242633"
        ],
        [
         "26",
         "120.29785808242633"
        ],
        [
         "27",
         "120.29785808242633"
        ],
        [
         "28",
         "120.29785808242633"
        ],
        [
         "29",
         "120.29785808242633"
        ],
        [
         "30",
         "120.29785808242633"
        ],
        [
         "31",
         "120.29785808242633"
        ],
        [
         "32",
         "120.29785808242633"
        ],
        [
         "33",
         "120.29785808242633"
        ],
        [
         "34",
         "120.29785808242633"
        ],
        [
         "35",
         "120.29785808242633"
        ],
        [
         "36",
         "120.29785808242633"
        ],
        [
         "37",
         "120.29785808242633"
        ],
        [
         "38",
         "120.29785808242633"
        ],
        [
         "39",
         "120.29785808242633"
        ],
        [
         "40",
         "120.29785808242633"
        ],
        [
         "41",
         "120.29785808242633"
        ],
        [
         "42",
         "120.29785808242633"
        ],
        [
         "43",
         "120.29785808242633"
        ],
        [
         "44",
         "120.29785808242633"
        ],
        [
         "45",
         "120.29785808242633"
        ],
        [
         "46",
         "120.29785808242633"
        ],
        [
         "47",
         "120.29785808242633"
        ],
        [
         "48",
         "120.29785808242633"
        ],
        [
         "49",
         "120.29785808242633"
        ]
       ],
       "shape": {
        "columns": 1,
        "rows": 12001
       }
      },
      "text/plain": [
       "0        104.000000\n",
       "1        108.909945\n",
       "2        112.481850\n",
       "3        115.092297\n",
       "4        116.983035\n",
       "            ...    \n",
       "11996    102.896546\n",
       "11997    102.939993\n",
       "11998    102.978843\n",
       "11999    103.013134\n",
       "12000    103.042913\n",
       "Name: v_lv, Length: 12001, dtype: float64"
      ]
     },
     "execution_count": 31,
     "metadata": {},
     "output_type": "execute_result"
    }
   ],
   "source": [
    "model_2.components['lv'].V"
   ]
  },
  {
   "cell_type": "markdown",
   "metadata": {},
   "source": [
    "### Inspect outputs graphically using the BaseAnalysis module"
   ]
  },
  {
   "cell_type": "code",
   "execution_count": 32,
   "metadata": {},
   "outputs": [],
   "source": [
    "ba_1 = BaseAnalysis(model_1)\n",
    "ba_2 = BaseAnalysis(model_2)"
   ]
  },
  {
   "cell_type": "code",
   "execution_count": 33,
   "metadata": {},
   "outputs": [
    {
     "data": {
      "image/png": "[encoded data removed]",
      "text/plain": [
       "<Figure size 500x500 with 1 Axes>"
      ]
     },
     "metadata": {},
     "output_type": "display_data"
    }
   ],
   "source": [
    "ax_1 = ba_1.plot_p_v_loop('lv')\n",
    "ax_2 = ba_2.plot_p_v_loop(component='lv', ax=ax_1)\n",
    "plt.show()"
   ]
  },
  {
   "cell_type": "markdown",
   "metadata": {},
   "source": [
    "We can observe that with a smaller `E_act` parameter for the left ventricle, the system stabilises at a different range of the pressure-volume loop. In reality, biology is dynamic so the cardiovascular system parameters will adjust to each other. So, a change in left-ventricle strength might trigger a change in resistance or capacitance of other components. Such interactions are not yet part of the models instantiated in `ModularCirc`."
   ]
  },
  {
   "cell_type": "code",
   "execution_count": null,
   "metadata": {},
   "outputs": [
    {
     "name": "stdout",
     "output_type": "stream",
     "text": [
      "3.642888295375965\n",
      "(np.float64(70.6929909314813), np.float64(168.6123925024007))\n"
     ]
    }
   ],
   "source": [
    "print(ba_1.compute_cardiac_output('lv'))\n",
    "\n",
    "print(ba_1.compute_artery_pressure_range('ao'))"
   ]
  },
  {
   "cell_type": "code",
   "execution_count": 35,
   "metadata": {},
   "outputs": [
    {
     "name": "stdout",
     "output_type": "stream",
     "text": [
      "1.3995489824055556\n",
      "(np.float64(33.01671614474511), np.float64(71.34189308538005))\n"
     ]
    }
   ],
   "source": [
    "print(ba_2.compute_cardiac_output('lv'))\n",
    "\n",
    "print(ba_2.compute_artery_pressure_range('ao'))"
   ]
  },
  {
   "cell_type": "markdown",
   "metadata": {},
   "source": [
    "### Other exercises\n",
    "\n",
    "Try modifying different parameters, for example resistance of the aorta, and observe changes in the P-V loop or the cardiac output."
   ]
  }
 ],
 "metadata": {
  "kernelspec": {
   "display_name": "venv",
   "language": "python",
   "name": "python3"
  },
  "language_info": {
   "codemirror_mode": {
    "name": "ipython",
    "version": 3
   },
   "file_extension": ".py",
   "mimetype": "text/x-python",
   "name": "python",
   "nbconvert_exporter": "python",
   "pygments_lexer": "ipython3",
   "version": "3.12.4"
  }
 },
 "nbformat": 4,
 "nbformat_minor": 2
}
