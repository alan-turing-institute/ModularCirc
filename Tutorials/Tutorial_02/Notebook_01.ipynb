{
 "cells": [
  {
   "cell_type": "code",
   "execution_count": 1,
   "metadata": {},
   "outputs": [
    {
     "name": "stdout",
     "output_type": "stream",
     "text": [
      "/Users/lbokeria/projects/health_gc/cvd_net_project/ModularCirc/Tutorials/Tutorial_02\n"
     ]
    }
   ],
   "source": [
    "%load_ext autoreload \n",
    "%autoreload 2\n",
    "!pwd"
   ]
  },
  {
   "cell_type": "markdown",
   "metadata": {},
   "source": [
    "## Top level use of Modularcirc"
   ]
  },
  {
   "cell_type": "markdown",
   "metadata": {},
   "source": [
    "### Goals: Learn how to ...\n",
    "- how do we define an instance of the model \n",
    "- what are the objects necessary to run a model \n",
    "- how to modify model parameters\n",
    "- how to plot model outputs and compute basic stats using existing tools"
   ]
  },
  {
   "cell_type": "markdown",
   "metadata": {},
   "source": [
    "From a high-level perspective **ModularCirc** is a repository of cardiovascular models. \n",
    "All predefined models are found within `ModularCirc.Models`.\n",
    "Here we define two base clases, which serve as code templates for all specific implementations: \n",
    "1) `ModularCirc.Models.ParametersObject`\n",
    "2) `ModularCirc.Models.OdeModel`\n",
    "\n",
    "**They are not meant to be instantiated/run on their own.**"
   ]
  },
  {
   "cell_type": "markdown",
   "metadata": {},
   "source": [
    "### 1. `ParametersObject`\n",
    "A `ParametersObject` class serves as a counterpart of `OdeModel` and its purpose is to serve as an initial buffer:\n",
    "1) It should store the default values for the system parameters (literature). Side effect: prevents forgetting to set parameter values.\n",
    "2) It verifies whether the parameter exists within the predefined list of possibilities: prevents you from setting a paramter by mistake as a result of wrong model assumption/typo.\n",
    "\n",
    "One example is `ModularCirc.Models.NaghaviModelParamters`."
   ]
  },
  {
   "cell_type": "code",
   "execution_count": 2,
   "metadata": {},
   "outputs": [],
   "source": [
    "from ModularCirc.Models.NaghaviModelParameters import NaghaviModelParameters"
   ]
  },
  {
   "cell_type": "code",
   "execution_count": 3,
   "metadata": {},
   "outputs": [],
   "source": [
    "po = NaghaviModelParameters()"
   ]
  },
  {
   "cell_type": "markdown",
   "metadata": {},
   "source": [
    "To see what are the default/current parameter values associated with the object one can simply use the `print` function:\n",
    "```python\n",
    "print(po)\n",
    "```\n",
    "This provides a list organised in terms of specific components associated with the model and possible parameter entry. \n",
    "Where a parameter value has not be defined it is marked as `nan`."
   ]
  },
  {
   "cell_type": "code",
   "execution_count": 4,
   "metadata": {},
   "outputs": [
    {
     "name": "stdout",
     "output_type": "stream",
     "text": [
      "Naghavi Model parameters set: \n",
      " * Component - \u001b[1m\u001b[93mao\u001b[0m\n",
      "  - \u001b[1m\u001b[93mr\u001b[0m       : 2.400e+02\n",
      "  - \u001b[1m\u001b[93mc\u001b[0m       : 3.000e-01\n",
      "  - \u001b[1m\u001b[93ml\u001b[0m       : 0.000e+00\n",
      "  - \u001b[1m\u001b[93mv_ref\u001b[0m   : 1.000e+02\n",
      "  - \u001b[1m\u001b[93mv\u001b[0m       : 1.300e+02\n",
      "  - \u001b[1m\u001b[93mp\u001b[0m       : nan\n",
      "\n",
      " * Component - \u001b[1m\u001b[93mart\u001b[0m\n",
      "  - \u001b[1m\u001b[93mr\u001b[0m       : 1.125e+03\n",
      "  - \u001b[1m\u001b[93mc\u001b[0m       : 3.000e+00\n",
      "  - \u001b[1m\u001b[93ml\u001b[0m       : 0.000e+00\n",
      "  - \u001b[1m\u001b[93mv_ref\u001b[0m   : 9.000e+02\n",
      "  - \u001b[1m\u001b[93mv\u001b[0m       : 1.092e+03\n",
      "  - \u001b[1m\u001b[93mp\u001b[0m       : nan\n",
      "\n",
      " * Component - \u001b[1m\u001b[93mven\u001b[0m\n",
      "  - \u001b[1m\u001b[93mr\u001b[0m       : 9.000e+00\n",
      "  - \u001b[1m\u001b[93mc\u001b[0m       : 1.333e+02\n",
      "  - \u001b[1m\u001b[93ml\u001b[0m       : 0.000e+00\n",
      "  - \u001b[1m\u001b[93mv_ref\u001b[0m   : 2.800e+03\n",
      "  - \u001b[1m\u001b[93mv\u001b[0m       : 3.780e+03\n",
      "  - \u001b[1m\u001b[93mp\u001b[0m       : nan\n",
      "\n",
      " * Component - \u001b[1m\u001b[93mav\u001b[0m\n",
      "  - \u001b[1m\u001b[93mr\u001b[0m       : 6.000e+00\n",
      "  - \u001b[1m\u001b[93mmax_func\u001b[0m : <function relu_max at 0x10ae376a0>\n",
      "\n",
      " * Component - \u001b[1m\u001b[93mmv\u001b[0m\n",
      "  - \u001b[1m\u001b[93mr\u001b[0m       : 4.100e+00\n",
      "  - \u001b[1m\u001b[93mmax_func\u001b[0m : <function relu_max at 0x10ae376a0>\n",
      "\n",
      " * Component - \u001b[1m\u001b[93mla\u001b[0m\n",
      "  - \u001b[1m\u001b[93mE_pas\u001b[0m   : 4.400e-01\n",
      "  - \u001b[1m\u001b[93mE_act\u001b[0m   : 4.500e-01\n",
      "  - \u001b[1m\u001b[93mv_ref\u001b[0m   : 1.000e+01\n",
      "  - \u001b[1m\u001b[93mk_pas\u001b[0m   : 5.000e-02\n",
      "  - \u001b[1m\u001b[93mactivation_function\u001b[0m : <function activation_function_1 at 0x10ae37d80>\n",
      "  - \u001b[1m\u001b[93mt_tr\u001b[0m    : 2.250e+02\n",
      "  - \u001b[1m\u001b[93mt_max\u001b[0m   : 1.500e+02\n",
      "  - \u001b[1m\u001b[93mtau\u001b[0m     : 2.500e+01\n",
      "  - \u001b[1m\u001b[93mdelay\u001b[0m   : 1.000e+02\n",
      "  - \u001b[1m\u001b[93mv\u001b[0m       : 9.360e+01\n",
      "  - \u001b[1m\u001b[93mp\u001b[0m       : nan\n",
      "  - \u001b[1m\u001b[93mactivation_func\u001b[0m : nan\n",
      "\n",
      " * Component - \u001b[1m\u001b[93mlv\u001b[0m\n",
      "  - \u001b[1m\u001b[93mE_pas\u001b[0m   : 1.000e+00\n",
      "  - \u001b[1m\u001b[93mE_act\u001b[0m   : 3.000e+00\n",
      "  - \u001b[1m\u001b[93mv_ref\u001b[0m   : 1.000e+01\n",
      "  - \u001b[1m\u001b[93mk_pas\u001b[0m   : 2.700e-02\n",
      "  - \u001b[1m\u001b[93mactivation_function\u001b[0m : <function activation_function_1 at 0x10ae37d80>\n",
      "  - \u001b[1m\u001b[93mt_tr\u001b[0m    : 4.200e+02\n",
      "  - \u001b[1m\u001b[93mt_max\u001b[0m   : 2.800e+02\n",
      "  - \u001b[1m\u001b[93mtau\u001b[0m     : 2.500e+01\n",
      "  - \u001b[1m\u001b[93mdelay\u001b[0m   : nan\n",
      "  - \u001b[1m\u001b[93mv\u001b[0m       : 1.040e+02\n",
      "  - \u001b[1m\u001b[93mp\u001b[0m       : nan\n",
      "  - \u001b[1m\u001b[93mactivation_func\u001b[0m : nan\n",
      "\n",
      "\n"
     ]
    }
   ],
   "source": [
    "print(po)"
   ]
  },
  {
   "cell_type": "markdown",
   "metadata": {},
   "source": [
    "All this data is stored within the `components` atribute. \n",
    "Thus, if we want to see what are the componets associated with the model we can use:\n",
    "```python\n",
    "po.components.keys()\n",
    "```"
   ]
  },
  {
   "cell_type": "code",
   "execution_count": 5,
   "metadata": {},
   "outputs": [
    {
     "data": {
      "text/plain": [
       "dict_keys(['ao', 'art', 'ven', 'av', 'mv', 'la', 'lv'])"
      ]
     },
     "execution_count": 5,
     "metadata": {},
     "output_type": "execute_result"
    }
   ],
   "source": [
    "po.components.keys()"
   ]
  },
  {
   "cell_type": "markdown",
   "metadata": {},
   "source": [
    "If we want to see what are the parameters associated with a specific components we can use:"
   ]
  },
  {
   "cell_type": "code",
   "execution_count": 6,
   "metadata": {},
   "outputs": [
    {
     "data": {
      "text/plain": [
       "Index(['r', 'c', 'l', 'v_ref', 'v', 'p'], dtype='object')"
      ]
     },
     "execution_count": 6,
     "metadata": {},
     "output_type": "execute_result"
    }
   ],
   "source": [
    "po.components['ao'].keys()"
   ]
  },
  {
   "cell_type": "markdown",
   "metadata": {},
   "source": [
    "if we want to see the parameter corresponding to the aorta. Alternatively, for the `lv`, we can use:"
   ]
  },
  {
   "cell_type": "code",
   "execution_count": 7,
   "metadata": {},
   "outputs": [
    {
     "data": {
      "text/plain": [
       "Index(['E_pas', 'E_act', 'v_ref', 'k_pas', 'activation_function', 't_tr',\n",
       "       't_max', 'tau', 'delay', 'v', 'p', 'activation_func'],\n",
       "      dtype='object')"
      ]
     },
     "execution_count": 7,
     "metadata": {},
     "output_type": "execute_result"
    }
   ],
   "source": [
    "po.components['lv'].keys()"
   ]
  },
  {
   "cell_type": "markdown",
   "metadata": {},
   "source": [
    "Alterntively, one case also use:"
   ]
  },
  {
   "cell_type": "code",
   "execution_count": 8,
   "metadata": {},
   "outputs": [
    {
     "data": {
      "text/plain": [
       "Index(['E_pas', 'E_act', 'v_ref', 'k_pas', 'activation_function', 't_tr',\n",
       "       't_max', 'tau', 'delay', 'v', 'p', 'activation_func'],\n",
       "      dtype='object')"
      ]
     },
     "execution_count": 8,
     "metadata": {},
     "output_type": "execute_result"
    }
   ],
   "source": [
    "po['lv'].keys()"
   ]
  },
  {
   "cell_type": "markdown",
   "metadata": {},
   "source": [
    "We can modify the value of a parameter directly (**not recommended** if code hasn't been tested beforehand):"
   ]
  },
  {
   "cell_type": "code",
   "execution_count": 9,
   "metadata": {},
   "outputs": [],
   "source": [
    "po['lv']['E_pas'] = 2.0"
   ]
  },
  {
   "cell_type": "markdown",
   "metadata": {},
   "source": [
    "Alternatively you can modify the componet using a component specific method."
   ]
  },
  {
   "cell_type": "code",
   "execution_count": 10,
   "metadata": {},
   "outputs": [
    {
     "data": {
      "text/plain": [
       "0.1"
      ]
     },
     "execution_count": 10,
     "metadata": {},
     "output_type": "execute_result"
    }
   ],
   "source": [
    "po.set_chamber_comp('lv', E_pas=0.1)\n",
    "po['lv']['E_pas']"
   ]
  },
  {
   "cell_type": "markdown",
   "metadata": {},
   "source": [
    "Using this approach we can avoid setting a parameter that doesn't exist."
   ]
  },
  {
   "cell_type": "code",
   "execution_count": 11,
   "metadata": {},
   "outputs": [],
   "source": [
    "# po.set_chamber_comp('lv', r=0.1)"
   ]
  },
  {
   "cell_type": "markdown",
   "metadata": {},
   "source": [
    "### 2. Defining the instance of the model"
   ]
  },
  {
   "cell_type": "code",
   "execution_count": 12,
   "metadata": {},
   "outputs": [],
   "source": [
    "from ModularCirc.Models.NaghaviModel import NaghaviModel"
   ]
  },
  {
   "cell_type": "markdown",
   "metadata": {},
   "source": [
    "Before we instantiate the model, we need to define the details of the temporal discretization + other details. This is done using a dictionary. Here is an example:"
   ]
  },
  {
   "cell_type": "code",
   "execution_count": 13,
   "metadata": {},
   "outputs": [],
   "source": [
    "TIME_SETUP_DICT = {\n",
    "        'name'       :  'TimeTest', # the name asssociated with the temporal discretization (not super important.. names internal variable)\n",
    "        'ncycles'    :  30,         # the maximum number of cycles for which we run the simulation\n",
    "        'tcycle'     :  1000.,      # the duration of a heart beat (here in ms)\n",
    "        'dt'         :  1.0,        # the duration of a discrete time step\n",
    "        'export_min' :  2           # number of time steps for which we export the simulation (can also be used as a way to impose a minimum number of pulses)\n",
    "    }"
   ]
  },
  {
   "cell_type": "code",
   "execution_count": 14,
   "metadata": {},
   "outputs": [],
   "source": [
    "model = NaghaviModel(\n",
    "    time_setup_dict=TIME_SETUP_DICT,\n",
    "    suppress_printing=True\n",
    "    )"
   ]
  },
  {
   "cell_type": "markdown",
   "metadata": {},
   "source": [
    "### 3. Defining a solver object "
   ]
  },
  {
   "cell_type": "code",
   "execution_count": 15,
   "metadata": {},
   "outputs": [],
   "source": [
    "from ModularCirc.Solver import Solver"
   ]
  },
  {
   "cell_type": "markdown",
   "metadata": {},
   "source": [
    "Next we want to setup the solver. Here are some relevant parameters:\n",
    "- `suppress_output`: if `False` we get a printout of the model components, their input/ouput state variables and constitutive functions\n",
    "- `optimize_secondary_sv`: should be generally `False` (can expand on this for those curious)\n",
    "- `step_tol`: the maximum step size allowable by the internal ODE solver\n",
    "- `conv_cols`: specify the columns on which convergence (i.e. steady state) is tested on (format `p_` for pressure or `v_` for volume + component)"
   ]
  },
  {
   "cell_type": "code",
   "execution_count": 16,
   "metadata": {},
   "outputs": [],
   "source": [
    "solver = Solver(model=model)\n",
    "solver.setup(\n",
    "    optimize_secondary_sv=False,\n",
    "    suppress_output=True,\n",
    "    step_tol=0.001,\n",
    "    conv_cols=['p_lv', 'v_lv'],\n",
    "    method='LSODA'                       # 'LSODA' 'BDF\n",
    ")"
   ]
  },
  {
   "cell_type": "code",
   "execution_count": 17,
   "metadata": {},
   "outputs": [
    {
     "data": {
      "application/vnd.microsoft.datawrangler.viewer.v0+json": {
       "columns": [
        {
         "name": "index",
         "rawType": "int64",
         "type": "integer"
        },
        {
         "name": "v_ao",
         "rawType": "float64",
         "type": "float"
        },
        {
         "name": "v_art",
         "rawType": "float64",
         "type": "float"
        },
        {
         "name": "v_ven",
         "rawType": "float64",
         "type": "float"
        },
        {
         "name": "v_la",
         "rawType": "float64",
         "type": "float"
        },
        {
         "name": "v_lv",
         "rawType": "float64",
         "type": "float"
        },
        {
         "name": "p_lv",
         "rawType": "float64",
         "type": "float"
        },
        {
         "name": "q_av",
         "rawType": "float64",
         "type": "float"
        },
        {
         "name": "p_ao",
         "rawType": "float64",
         "type": "float"
        },
        {
         "name": "p_art",
         "rawType": "float64",
         "type": "float"
        },
        {
         "name": "q_ao",
         "rawType": "float64",
         "type": "float"
        },
        {
         "name": "p_ven",
         "rawType": "float64",
         "type": "float"
        },
        {
         "name": "q_art",
         "rawType": "float64",
         "type": "float"
        },
        {
         "name": "p_la",
         "rawType": "float64",
         "type": "float"
        },
        {
         "name": "q_ven",
         "rawType": "float64",
         "type": "float"
        },
        {
         "name": "q_mv",
         "rawType": "float64",
         "type": "float"
        }
       ],
       "ref": "a844f184-14f6-4708-8915-52fd4ffb7f51",
       "rows": [
        [
         "0",
         "130.0",
         "1092.0",
         "3780.4",
         "93.6",
         "104.0",
         "0.0",
         "0.0",
         "0.0",
         "0.0",
         "0.0",
         "0.0",
         "0.0",
         "0.0",
         "0.0",
         "0.0"
        ],
        [
         "1",
         "0.0",
         "0.0",
         "0.0",
         "0.0",
         "0.0",
         "0.0",
         "0.0",
         "0.0",
         "0.0",
         "0.0",
         "0.0",
         "0.0",
         "0.0",
         "0.0",
         "0.0"
        ],
        [
         "2",
         "0.0",
         "0.0",
         "0.0",
         "0.0",
         "0.0",
         "0.0",
         "0.0",
         "0.0",
         "0.0",
         "0.0",
         "0.0",
         "0.0",
         "0.0",
         "0.0",
         "0.0"
        ],
        [
         "3",
         "0.0",
         "0.0",
         "0.0",
         "0.0",
         "0.0",
         "0.0",
         "0.0",
         "0.0",
         "0.0",
         "0.0",
         "0.0",
         "0.0",
         "0.0",
         "0.0",
         "0.0"
        ],
        [
         "4",
         "0.0",
         "0.0",
         "0.0",
         "0.0",
         "0.0",
         "0.0",
         "0.0",
         "0.0",
         "0.0",
         "0.0",
         "0.0",
         "0.0",
         "0.0",
         "0.0",
         "0.0"
        ],
        [
         "5",
         "0.0",
         "0.0",
         "0.0",
         "0.0",
         "0.0",
         "0.0",
         "0.0",
         "0.0",
         "0.0",
         "0.0",
         "0.0",
         "0.0",
         "0.0",
         "0.0",
         "0.0"
        ],
        [
         "6",
         "0.0",
         "0.0",
         "0.0",
         "0.0",
         "0.0",
         "0.0",
         "0.0",
         "0.0",
         "0.0",
         "0.0",
         "0.0",
         "0.0",
         "0.0",
         "0.0",
         "0.0"
        ],
        [
         "7",
         "0.0",
         "0.0",
         "0.0",
         "0.0",
         "0.0",
         "0.0",
         "0.0",
         "0.0",
         "0.0",
         "0.0",
         "0.0",
         "0.0",
         "0.0",
         "0.0",
         "0.0"
        ],
        [
         "8",
         "0.0",
         "0.0",
         "0.0",
         "0.0",
         "0.0",
         "0.0",
         "0.0",
         "0.0",
         "0.0",
         "0.0",
         "0.0",
         "0.0",
         "0.0",
         "0.0",
         "0.0"
        ],
        [
         "9",
         "0.0",
         "0.0",
         "0.0",
         "0.0",
         "0.0",
         "0.0",
         "0.0",
         "0.0",
         "0.0",
         "0.0",
         "0.0",
         "0.0",
         "0.0",
         "0.0",
         "0.0"
        ],
        [
         "10",
         "0.0",
         "0.0",
         "0.0",
         "0.0",
         "0.0",
         "0.0",
         "0.0",
         "0.0",
         "0.0",
         "0.0",
         "0.0",
         "0.0",
         "0.0",
         "0.0",
         "0.0"
        ],
        [
         "11",
         "0.0",
         "0.0",
         "0.0",
         "0.0",
         "0.0",
         "0.0",
         "0.0",
         "0.0",
         "0.0",
         "0.0",
         "0.0",
         "0.0",
         "0.0",
         "0.0",
         "0.0"
        ],
        [
         "12",
         "0.0",
         "0.0",
         "0.0",
         "0.0",
         "0.0",
         "0.0",
         "0.0",
         "0.0",
         "0.0",
         "0.0",
         "0.0",
         "0.0",
         "0.0",
         "0.0",
         "0.0"
        ],
        [
         "13",
         "0.0",
         "0.0",
         "0.0",
         "0.0",
         "0.0",
         "0.0",
         "0.0",
         "0.0",
         "0.0",
         "0.0",
         "0.0",
         "0.0",
         "0.0",
         "0.0",
         "0.0"
        ],
        [
         "14",
         "0.0",
         "0.0",
         "0.0",
         "0.0",
         "0.0",
         "0.0",
         "0.0",
         "0.0",
         "0.0",
         "0.0",
         "0.0",
         "0.0",
         "0.0",
         "0.0",
         "0.0"
        ],
        [
         "15",
         "0.0",
         "0.0",
         "0.0",
         "0.0",
         "0.0",
         "0.0",
         "0.0",
         "0.0",
         "0.0",
         "0.0",
         "0.0",
         "0.0",
         "0.0",
         "0.0",
         "0.0"
        ],
        [
         "16",
         "0.0",
         "0.0",
         "0.0",
         "0.0",
         "0.0",
         "0.0",
         "0.0",
         "0.0",
         "0.0",
         "0.0",
         "0.0",
         "0.0",
         "0.0",
         "0.0",
         "0.0"
        ],
        [
         "17",
         "0.0",
         "0.0",
         "0.0",
         "0.0",
         "0.0",
         "0.0",
         "0.0",
         "0.0",
         "0.0",
         "0.0",
         "0.0",
         "0.0",
         "0.0",
         "0.0",
         "0.0"
        ],
        [
         "18",
         "0.0",
         "0.0",
         "0.0",
         "0.0",
         "0.0",
         "0.0",
         "0.0",
         "0.0",
         "0.0",
         "0.0",
         "0.0",
         "0.0",
         "0.0",
         "0.0",
         "0.0"
        ],
        [
         "19",
         "0.0",
         "0.0",
         "0.0",
         "0.0",
         "0.0",
         "0.0",
         "0.0",
         "0.0",
         "0.0",
         "0.0",
         "0.0",
         "0.0",
         "0.0",
         "0.0",
         "0.0"
        ],
        [
         "20",
         "0.0",
         "0.0",
         "0.0",
         "0.0",
         "0.0",
         "0.0",
         "0.0",
         "0.0",
         "0.0",
         "0.0",
         "0.0",
         "0.0",
         "0.0",
         "0.0",
         "0.0"
        ],
        [
         "21",
         "0.0",
         "0.0",
         "0.0",
         "0.0",
         "0.0",
         "0.0",
         "0.0",
         "0.0",
         "0.0",
         "0.0",
         "0.0",
         "0.0",
         "0.0",
         "0.0",
         "0.0"
        ],
        [
         "22",
         "0.0",
         "0.0",
         "0.0",
         "0.0",
         "0.0",
         "0.0",
         "0.0",
         "0.0",
         "0.0",
         "0.0",
         "0.0",
         "0.0",
         "0.0",
         "0.0",
         "0.0"
        ],
        [
         "23",
         "0.0",
         "0.0",
         "0.0",
         "0.0",
         "0.0",
         "0.0",
         "0.0",
         "0.0",
         "0.0",
         "0.0",
         "0.0",
         "0.0",
         "0.0",
         "0.0",
         "0.0"
        ],
        [
         "24",
         "0.0",
         "0.0",
         "0.0",
         "0.0",
         "0.0",
         "0.0",
         "0.0",
         "0.0",
         "0.0",
         "0.0",
         "0.0",
         "0.0",
         "0.0",
         "0.0",
         "0.0"
        ],
        [
         "25",
         "0.0",
         "0.0",
         "0.0",
         "0.0",
         "0.0",
         "0.0",
         "0.0",
         "0.0",
         "0.0",
         "0.0",
         "0.0",
         "0.0",
         "0.0",
         "0.0",
         "0.0"
        ],
        [
         "26",
         "0.0",
         "0.0",
         "0.0",
         "0.0",
         "0.0",
         "0.0",
         "0.0",
         "0.0",
         "0.0",
         "0.0",
         "0.0",
         "0.0",
         "0.0",
         "0.0",
         "0.0"
        ],
        [
         "27",
         "0.0",
         "0.0",
         "0.0",
         "0.0",
         "0.0",
         "0.0",
         "0.0",
         "0.0",
         "0.0",
         "0.0",
         "0.0",
         "0.0",
         "0.0",
         "0.0",
         "0.0"
        ],
        [
         "28",
         "0.0",
         "0.0",
         "0.0",
         "0.0",
         "0.0",
         "0.0",
         "0.0",
         "0.0",
         "0.0",
         "0.0",
         "0.0",
         "0.0",
         "0.0",
         "0.0",
         "0.0"
        ],
        [
         "29",
         "0.0",
         "0.0",
         "0.0",
         "0.0",
         "0.0",
         "0.0",
         "0.0",
         "0.0",
         "0.0",
         "0.0",
         "0.0",
         "0.0",
         "0.0",
         "0.0",
         "0.0"
        ],
        [
         "30",
         "0.0",
         "0.0",
         "0.0",
         "0.0",
         "0.0",
         "0.0",
         "0.0",
         "0.0",
         "0.0",
         "0.0",
         "0.0",
         "0.0",
         "0.0",
         "0.0",
         "0.0"
        ],
        [
         "31",
         "0.0",
         "0.0",
         "0.0",
         "0.0",
         "0.0",
         "0.0",
         "0.0",
         "0.0",
         "0.0",
         "0.0",
         "0.0",
         "0.0",
         "0.0",
         "0.0",
         "0.0"
        ],
        [
         "32",
         "0.0",
         "0.0",
         "0.0",
         "0.0",
         "0.0",
         "0.0",
         "0.0",
         "0.0",
         "0.0",
         "0.0",
         "0.0",
         "0.0",
         "0.0",
         "0.0",
         "0.0"
        ],
        [
         "33",
         "0.0",
         "0.0",
         "0.0",
         "0.0",
         "0.0",
         "0.0",
         "0.0",
         "0.0",
         "0.0",
         "0.0",
         "0.0",
         "0.0",
         "0.0",
         "0.0",
         "0.0"
        ],
        [
         "34",
         "0.0",
         "0.0",
         "0.0",
         "0.0",
         "0.0",
         "0.0",
         "0.0",
         "0.0",
         "0.0",
         "0.0",
         "0.0",
         "0.0",
         "0.0",
         "0.0",
         "0.0"
        ],
        [
         "35",
         "0.0",
         "0.0",
         "0.0",
         "0.0",
         "0.0",
         "0.0",
         "0.0",
         "0.0",
         "0.0",
         "0.0",
         "0.0",
         "0.0",
         "0.0",
         "0.0",
         "0.0"
        ],
        [
         "36",
         "0.0",
         "0.0",
         "0.0",
         "0.0",
         "0.0",
         "0.0",
         "0.0",
         "0.0",
         "0.0",
         "0.0",
         "0.0",
         "0.0",
         "0.0",
         "0.0",
         "0.0"
        ],
        [
         "37",
         "0.0",
         "0.0",
         "0.0",
         "0.0",
         "0.0",
         "0.0",
         "0.0",
         "0.0",
         "0.0",
         "0.0",
         "0.0",
         "0.0",
         "0.0",
         "0.0",
         "0.0"
        ],
        [
         "38",
         "0.0",
         "0.0",
         "0.0",
         "0.0",
         "0.0",
         "0.0",
         "0.0",
         "0.0",
         "0.0",
         "0.0",
         "0.0",
         "0.0",
         "0.0",
         "0.0",
         "0.0"
        ],
        [
         "39",
         "0.0",
         "0.0",
         "0.0",
         "0.0",
         "0.0",
         "0.0",
         "0.0",
         "0.0",
         "0.0",
         "0.0",
         "0.0",
         "0.0",
         "0.0",
         "0.0",
         "0.0"
        ],
        [
         "40",
         "0.0",
         "0.0",
         "0.0",
         "0.0",
         "0.0",
         "0.0",
         "0.0",
         "0.0",
         "0.0",
         "0.0",
         "0.0",
         "0.0",
         "0.0",
         "0.0",
         "0.0"
        ],
        [
         "41",
         "0.0",
         "0.0",
         "0.0",
         "0.0",
         "0.0",
         "0.0",
         "0.0",
         "0.0",
         "0.0",
         "0.0",
         "0.0",
         "0.0",
         "0.0",
         "0.0",
         "0.0"
        ],
        [
         "42",
         "0.0",
         "0.0",
         "0.0",
         "0.0",
         "0.0",
         "0.0",
         "0.0",
         "0.0",
         "0.0",
         "0.0",
         "0.0",
         "0.0",
         "0.0",
         "0.0",
         "0.0"
        ],
        [
         "43",
         "0.0",
         "0.0",
         "0.0",
         "0.0",
         "0.0",
         "0.0",
         "0.0",
         "0.0",
         "0.0",
         "0.0",
         "0.0",
         "0.0",
         "0.0",
         "0.0",
         "0.0"
        ],
        [
         "44",
         "0.0",
         "0.0",
         "0.0",
         "0.0",
         "0.0",
         "0.0",
         "0.0",
         "0.0",
         "0.0",
         "0.0",
         "0.0",
         "0.0",
         "0.0",
         "0.0",
         "0.0"
        ],
        [
         "45",
         "0.0",
         "0.0",
         "0.0",
         "0.0",
         "0.0",
         "0.0",
         "0.0",
         "0.0",
         "0.0",
         "0.0",
         "0.0",
         "0.0",
         "0.0",
         "0.0",
         "0.0"
        ],
        [
         "46",
         "0.0",
         "0.0",
         "0.0",
         "0.0",
         "0.0",
         "0.0",
         "0.0",
         "0.0",
         "0.0",
         "0.0",
         "0.0",
         "0.0",
         "0.0",
         "0.0",
         "0.0"
        ],
        [
         "47",
         "0.0",
         "0.0",
         "0.0",
         "0.0",
         "0.0",
         "0.0",
         "0.0",
         "0.0",
         "0.0",
         "0.0",
         "0.0",
         "0.0",
         "0.0",
         "0.0",
         "0.0"
        ],
        [
         "48",
         "0.0",
         "0.0",
         "0.0",
         "0.0",
         "0.0",
         "0.0",
         "0.0",
         "0.0",
         "0.0",
         "0.0",
         "0.0",
         "0.0",
         "0.0",
         "0.0",
         "0.0"
        ],
        [
         "49",
         "0.0",
         "0.0",
         "0.0",
         "0.0",
         "0.0",
         "0.0",
         "0.0",
         "0.0",
         "0.0",
         "0.0",
         "0.0",
         "0.0",
         "0.0",
         "0.0",
         "0.0"
        ]
       ],
       "shape": {
        "columns": 15,
        "rows": 30001
       }
      },
      "text/html": [
       "<div>\n",
       "<style scoped>\n",
       "    .dataframe tbody tr th:only-of-type {\n",
       "        vertical-align: middle;\n",
       "    }\n",
       "\n",
       "    .dataframe tbody tr th {\n",
       "        vertical-align: top;\n",
       "    }\n",
       "\n",
       "    .dataframe thead th {\n",
       "        text-align: right;\n",
       "    }\n",
       "</style>\n",
       "<table border=\"1\" class=\"dataframe\">\n",
       "  <thead>\n",
       "    <tr style=\"text-align: right;\">\n",
       "      <th></th>\n",
       "      <th>v_ao</th>\n",
       "      <th>v_art</th>\n",
       "      <th>v_ven</th>\n",
       "      <th>v_la</th>\n",
       "      <th>v_lv</th>\n",
       "      <th>p_lv</th>\n",
       "      <th>q_av</th>\n",
       "      <th>p_ao</th>\n",
       "      <th>p_art</th>\n",
       "      <th>q_ao</th>\n",
       "      <th>p_ven</th>\n",
       "      <th>q_art</th>\n",
       "      <th>p_la</th>\n",
       "      <th>q_ven</th>\n",
       "      <th>q_mv</th>\n",
       "    </tr>\n",
       "  </thead>\n",
       "  <tbody>\n",
       "    <tr>\n",
       "      <th>0</th>\n",
       "      <td>130.0</td>\n",
       "      <td>1092.0</td>\n",
       "      <td>3780.4</td>\n",
       "      <td>93.6</td>\n",
       "      <td>104.0</td>\n",
       "      <td>0.0</td>\n",
       "      <td>0.0</td>\n",
       "      <td>0.0</td>\n",
       "      <td>0.0</td>\n",
       "      <td>0.0</td>\n",
       "      <td>0.0</td>\n",
       "      <td>0.0</td>\n",
       "      <td>0.0</td>\n",
       "      <td>0.0</td>\n",
       "      <td>0.0</td>\n",
       "    </tr>\n",
       "    <tr>\n",
       "      <th>1</th>\n",
       "      <td>0.0</td>\n",
       "      <td>0.0</td>\n",
       "      <td>0.0</td>\n",
       "      <td>0.0</td>\n",
       "      <td>0.0</td>\n",
       "      <td>0.0</td>\n",
       "      <td>0.0</td>\n",
       "      <td>0.0</td>\n",
       "      <td>0.0</td>\n",
       "      <td>0.0</td>\n",
       "      <td>0.0</td>\n",
       "      <td>0.0</td>\n",
       "      <td>0.0</td>\n",
       "      <td>0.0</td>\n",
       "      <td>0.0</td>\n",
       "    </tr>\n",
       "    <tr>\n",
       "      <th>2</th>\n",
       "      <td>0.0</td>\n",
       "      <td>0.0</td>\n",
       "      <td>0.0</td>\n",
       "      <td>0.0</td>\n",
       "      <td>0.0</td>\n",
       "      <td>0.0</td>\n",
       "      <td>0.0</td>\n",
       "      <td>0.0</td>\n",
       "      <td>0.0</td>\n",
       "      <td>0.0</td>\n",
       "      <td>0.0</td>\n",
       "      <td>0.0</td>\n",
       "      <td>0.0</td>\n",
       "      <td>0.0</td>\n",
       "      <td>0.0</td>\n",
       "    </tr>\n",
       "    <tr>\n",
       "      <th>3</th>\n",
       "      <td>0.0</td>\n",
       "      <td>0.0</td>\n",
       "      <td>0.0</td>\n",
       "      <td>0.0</td>\n",
       "      <td>0.0</td>\n",
       "      <td>0.0</td>\n",
       "      <td>0.0</td>\n",
       "      <td>0.0</td>\n",
       "      <td>0.0</td>\n",
       "      <td>0.0</td>\n",
       "      <td>0.0</td>\n",
       "      <td>0.0</td>\n",
       "      <td>0.0</td>\n",
       "      <td>0.0</td>\n",
       "      <td>0.0</td>\n",
       "    </tr>\n",
       "    <tr>\n",
       "      <th>4</th>\n",
       "      <td>0.0</td>\n",
       "      <td>0.0</td>\n",
       "      <td>0.0</td>\n",
       "      <td>0.0</td>\n",
       "      <td>0.0</td>\n",
       "      <td>0.0</td>\n",
       "      <td>0.0</td>\n",
       "      <td>0.0</td>\n",
       "      <td>0.0</td>\n",
       "      <td>0.0</td>\n",
       "      <td>0.0</td>\n",
       "      <td>0.0</td>\n",
       "      <td>0.0</td>\n",
       "      <td>0.0</td>\n",
       "      <td>0.0</td>\n",
       "    </tr>\n",
       "    <tr>\n",
       "      <th>...</th>\n",
       "      <td>...</td>\n",
       "      <td>...</td>\n",
       "      <td>...</td>\n",
       "      <td>...</td>\n",
       "      <td>...</td>\n",
       "      <td>...</td>\n",
       "      <td>...</td>\n",
       "      <td>...</td>\n",
       "      <td>...</td>\n",
       "      <td>...</td>\n",
       "      <td>...</td>\n",
       "      <td>...</td>\n",
       "      <td>...</td>\n",
       "      <td>...</td>\n",
       "      <td>...</td>\n",
       "    </tr>\n",
       "    <tr>\n",
       "      <th>29996</th>\n",
       "      <td>0.0</td>\n",
       "      <td>0.0</td>\n",
       "      <td>0.0</td>\n",
       "      <td>0.0</td>\n",
       "      <td>0.0</td>\n",
       "      <td>0.0</td>\n",
       "      <td>0.0</td>\n",
       "      <td>0.0</td>\n",
       "      <td>0.0</td>\n",
       "      <td>0.0</td>\n",
       "      <td>0.0</td>\n",
       "      <td>0.0</td>\n",
       "      <td>0.0</td>\n",
       "      <td>0.0</td>\n",
       "      <td>0.0</td>\n",
       "    </tr>\n",
       "    <tr>\n",
       "      <th>29997</th>\n",
       "      <td>0.0</td>\n",
       "      <td>0.0</td>\n",
       "      <td>0.0</td>\n",
       "      <td>0.0</td>\n",
       "      <td>0.0</td>\n",
       "      <td>0.0</td>\n",
       "      <td>0.0</td>\n",
       "      <td>0.0</td>\n",
       "      <td>0.0</td>\n",
       "      <td>0.0</td>\n",
       "      <td>0.0</td>\n",
       "      <td>0.0</td>\n",
       "      <td>0.0</td>\n",
       "      <td>0.0</td>\n",
       "      <td>0.0</td>\n",
       "    </tr>\n",
       "    <tr>\n",
       "      <th>29998</th>\n",
       "      <td>0.0</td>\n",
       "      <td>0.0</td>\n",
       "      <td>0.0</td>\n",
       "      <td>0.0</td>\n",
       "      <td>0.0</td>\n",
       "      <td>0.0</td>\n",
       "      <td>0.0</td>\n",
       "      <td>0.0</td>\n",
       "      <td>0.0</td>\n",
       "      <td>0.0</td>\n",
       "      <td>0.0</td>\n",
       "      <td>0.0</td>\n",
       "      <td>0.0</td>\n",
       "      <td>0.0</td>\n",
       "      <td>0.0</td>\n",
       "    </tr>\n",
       "    <tr>\n",
       "      <th>29999</th>\n",
       "      <td>0.0</td>\n",
       "      <td>0.0</td>\n",
       "      <td>0.0</td>\n",
       "      <td>0.0</td>\n",
       "      <td>0.0</td>\n",
       "      <td>0.0</td>\n",
       "      <td>0.0</td>\n",
       "      <td>0.0</td>\n",
       "      <td>0.0</td>\n",
       "      <td>0.0</td>\n",
       "      <td>0.0</td>\n",
       "      <td>0.0</td>\n",
       "      <td>0.0</td>\n",
       "      <td>0.0</td>\n",
       "      <td>0.0</td>\n",
       "    </tr>\n",
       "    <tr>\n",
       "      <th>30000</th>\n",
       "      <td>0.0</td>\n",
       "      <td>0.0</td>\n",
       "      <td>0.0</td>\n",
       "      <td>0.0</td>\n",
       "      <td>0.0</td>\n",
       "      <td>0.0</td>\n",
       "      <td>0.0</td>\n",
       "      <td>0.0</td>\n",
       "      <td>0.0</td>\n",
       "      <td>0.0</td>\n",
       "      <td>0.0</td>\n",
       "      <td>0.0</td>\n",
       "      <td>0.0</td>\n",
       "      <td>0.0</td>\n",
       "      <td>0.0</td>\n",
       "    </tr>\n",
       "  </tbody>\n",
       "</table>\n",
       "<p>30001 rows × 15 columns</p>\n",
       "</div>"
      ],
      "text/plain": [
       "        v_ao   v_art   v_ven  v_la   v_lv  p_lv  q_av  p_ao  p_art  q_ao  \\\n",
       "0      130.0  1092.0  3780.4  93.6  104.0   0.0   0.0   0.0    0.0   0.0   \n",
       "1        0.0     0.0     0.0   0.0    0.0   0.0   0.0   0.0    0.0   0.0   \n",
       "2        0.0     0.0     0.0   0.0    0.0   0.0   0.0   0.0    0.0   0.0   \n",
       "3        0.0     0.0     0.0   0.0    0.0   0.0   0.0   0.0    0.0   0.0   \n",
       "4        0.0     0.0     0.0   0.0    0.0   0.0   0.0   0.0    0.0   0.0   \n",
       "...      ...     ...     ...   ...    ...   ...   ...   ...    ...   ...   \n",
       "29996    0.0     0.0     0.0   0.0    0.0   0.0   0.0   0.0    0.0   0.0   \n",
       "29997    0.0     0.0     0.0   0.0    0.0   0.0   0.0   0.0    0.0   0.0   \n",
       "29998    0.0     0.0     0.0   0.0    0.0   0.0   0.0   0.0    0.0   0.0   \n",
       "29999    0.0     0.0     0.0   0.0    0.0   0.0   0.0   0.0    0.0   0.0   \n",
       "30000    0.0     0.0     0.0   0.0    0.0   0.0   0.0   0.0    0.0   0.0   \n",
       "\n",
       "       p_ven  q_art  p_la  q_ven  q_mv  \n",
       "0        0.0    0.0   0.0    0.0   0.0  \n",
       "1        0.0    0.0   0.0    0.0   0.0  \n",
       "2        0.0    0.0   0.0    0.0   0.0  \n",
       "3        0.0    0.0   0.0    0.0   0.0  \n",
       "4        0.0    0.0   0.0    0.0   0.0  \n",
       "...      ...    ...   ...    ...   ...  \n",
       "29996    0.0    0.0   0.0    0.0   0.0  \n",
       "29997    0.0    0.0   0.0    0.0   0.0  \n",
       "29998    0.0    0.0   0.0    0.0   0.0  \n",
       "29999    0.0    0.0   0.0    0.0   0.0  \n",
       "30000    0.0    0.0   0.0    0.0   0.0  \n",
       "\n",
       "[30001 rows x 15 columns]"
      ]
     },
     "execution_count": 17,
     "metadata": {},
     "output_type": "execute_result"
    }
   ],
   "source": [
    "solver._asd"
   ]
  },
  {
   "cell_type": "code",
   "execution_count": 18,
   "metadata": {},
   "outputs": [
    {
     "data": {
      "text/plain": [
       "10"
      ]
     },
     "execution_count": 18,
     "metadata": {},
     "output_type": "execute_result"
    }
   ],
   "source": [
    "len(solver._global_psv_names)"
   ]
  },
  {
   "cell_type": "markdown",
   "metadata": {},
   "source": [
    "Once the setup is done we can actually run the simulations using the `solve` method. \n",
    "We can verify if the solver converged using the `converged` atribute."
   ]
  },
  {
   "cell_type": "code",
   "execution_count": 19,
   "metadata": {},
   "outputs": [
    {
     "data": {
      "text/plain": [
       "True"
      ]
     },
     "execution_count": 19,
     "metadata": {},
     "output_type": "execute_result"
    }
   ],
   "source": [
    "solver.solve()\n",
    "# %prun -l 40 -s tottime solver.solve()\n",
    "# %prun -l 40 -s cumtime solver.solve()\n",
    "# %prun -s cumtime solver.solve()\n",
    "solver.converged"
   ]
  },
  {
   "cell_type": "markdown",
   "metadata": {},
   "source": [
    "We can also check the number of cycles necessary to reach steady state."
   ]
  },
  {
   "cell_type": "code",
   "execution_count": 20,
   "metadata": {},
   "outputs": [
    {
     "data": {
      "text/plain": [
       "9"
      ]
     },
     "execution_count": 20,
     "metadata": {},
     "output_type": "execute_result"
    }
   ],
   "source": [
    "solver.Nconv"
   ]
  },
  {
   "cell_type": "markdown",
   "metadata": {},
   "source": [
    "If we want to verify what are the values of the state variables we can use:"
   ]
  },
  {
   "cell_type": "code",
   "execution_count": 21,
   "metadata": {},
   "outputs": [
    {
     "data": {
      "application/vnd.microsoft.datawrangler.viewer.v0+json": {
       "columns": [
        {
         "name": "index",
         "rawType": "int64",
         "type": "integer"
        },
        {
         "name": "v_lv",
         "rawType": "float64",
         "type": "float"
        }
       ],
       "ref": "d1f780b4-e175-4704-91b8-3ee22c4a7d1c",
       "rows": [
        [
         "0",
         "104.0"
        ],
        [
         "1",
         "108.90829882819733"
        ],
        [
         "2",
         "112.46896811663146"
        ],
        [
         "3",
         "115.04998279580461"
        ],
        [
         "4",
         "116.8858300367837"
        ],
        [
         "5",
         "118.14085221097099"
        ],
        [
         "6",
         "118.93610373442434"
        ],
        [
         "7",
         "119.36292549594164"
        ],
        [
         "8",
         "119.49106310953889"
        ],
        [
         "9",
         "119.4910697561235"
        ],
        [
         "10",
         "119.4910697561235"
        ],
        [
         "11",
         "119.4910697561235"
        ],
        [
         "12",
         "119.4910697561235"
        ],
        [
         "13",
         "119.4910697561235"
        ],
        [
         "14",
         "119.4910697561235"
        ],
        [
         "15",
         "119.4910697561235"
        ],
        [
         "16",
         "119.4910697561235"
        ],
        [
         "17",
         "119.4910697561235"
        ],
        [
         "18",
         "119.4910697561235"
        ],
        [
         "19",
         "119.4910697561235"
        ],
        [
         "20",
         "119.4910697561235"
        ],
        [
         "21",
         "119.4910697561235"
        ],
        [
         "22",
         "119.4910697561235"
        ],
        [
         "23",
         "119.4910697561235"
        ],
        [
         "24",
         "119.4910697561235"
        ],
        [
         "25",
         "119.4910697561235"
        ],
        [
         "26",
         "119.4910697561235"
        ],
        [
         "27",
         "119.4910697561235"
        ],
        [
         "28",
         "119.4910697561235"
        ],
        [
         "29",
         "119.4910697561235"
        ],
        [
         "30",
         "119.4910697561235"
        ],
        [
         "31",
         "119.4910697561235"
        ],
        [
         "32",
         "119.4910697561235"
        ],
        [
         "33",
         "119.4910697561235"
        ],
        [
         "34",
         "119.4910697561235"
        ],
        [
         "35",
         "119.4910697561235"
        ],
        [
         "36",
         "119.4910697561235"
        ],
        [
         "37",
         "119.4910697561235"
        ],
        [
         "38",
         "119.4910697561235"
        ],
        [
         "39",
         "119.4910697561235"
        ],
        [
         "40",
         "119.4910697561235"
        ],
        [
         "41",
         "119.4910697561235"
        ],
        [
         "42",
         "119.4910697561235"
        ],
        [
         "43",
         "119.4910697561235"
        ],
        [
         "44",
         "119.4910697561235"
        ],
        [
         "45",
         "119.4910697561235"
        ],
        [
         "46",
         "119.43130585282931"
        ],
        [
         "47",
         "119.08582179796576"
        ],
        [
         "48",
         "118.56922658664755"
        ],
        [
         "49",
         "117.96623111546188"
        ]
       ],
       "shape": {
        "columns": 1,
        "rows": 10001
       }
      },
      "text/plain": [
       "0        104.000000\n",
       "1        108.908299\n",
       "2        112.468968\n",
       "3        115.049983\n",
       "4        116.885830\n",
       "            ...    \n",
       "9996     100.799708\n",
       "9997     100.841918\n",
       "9998     100.879430\n",
       "9999     100.912299\n",
       "10000    100.940582\n",
       "Name: v_lv, Length: 10001, dtype: float64"
      ]
     },
     "execution_count": 21,
     "metadata": {},
     "output_type": "execute_result"
    }
   ],
   "source": [
    "model.components['lv'].V"
   ]
  },
  {
   "cell_type": "markdown",
   "metadata": {},
   "source": [
    "There is an option to also inspect the outputs graphically, using the `BaseAnalysis` class."
   ]
  },
  {
   "cell_type": "code",
   "execution_count": 22,
   "metadata": {},
   "outputs": [],
   "source": [
    "from ModularCirc.Analysis.BaseAnalysis import BaseAnalysis\n",
    "import matplotlib.pyplot as plt"
   ]
  },
  {
   "cell_type": "markdown",
   "metadata": {},
   "source": [
    "When creating the instance of the analysis object, we must provide the model as input."
   ]
  },
  {
   "cell_type": "code",
   "execution_count": 23,
   "metadata": {},
   "outputs": [],
   "source": [
    "ba = BaseAnalysis(model)"
   ]
  },
  {
   "cell_type": "markdown",
   "metadata": {},
   "source": [
    "We can use it to quickly create plots to see if the the respective model makes sense. One useful method is `plot_p_v_loop` which can be used to plot the p-V loop of any component in the system by simply providing the name of that component:"
   ]
  },
  {
   "cell_type": "code",
   "execution_count": 24,
   "metadata": {},
   "outputs": [
    {
     "data": {
      "image/png": "[encoded data removed]",
      "text/plain": [
       "<Figure size 500x500 with 1 Axes>"
      ]
     },
     "metadata": {},
     "output_type": "display_data"
    }
   ],
   "source": [
    "ba.plot_p_v_loop('lv')\n",
    "plt.show()"
   ]
  },
  {
   "cell_type": "markdown",
   "metadata": {},
   "source": [
    "If we are trying to create a more complex plot where we are looking at different components in each subplot, we can provide the axes as well."
   ]
  },
  {
   "cell_type": "code",
   "execution_count": 25,
   "metadata": {},
   "outputs": [
    {
     "data": {
      "text/plain": [
       "[]"
      ]
     },
     "execution_count": 25,
     "metadata": {},
     "output_type": "execute_result"
    },
    {
     "data": {
      "image/png": "[encoded data removed]",
      "text/plain": [
       "<Figure size 1000x500 with 2 Axes>"
      ]
     },
     "metadata": {},
     "output_type": "display_data"
    }
   ],
   "source": [
    "fig, ax= plt.subplots(ncols=2, figsize=(10, 5))\n",
    "ba.plot_p_v_loop('lv', ax=ax[0])\n",
    "ba.plot_p_v_loop('la', ax=ax[1])\n",
    "plt.plot()"
   ]
  },
  {
   "cell_type": "code",
   "execution_count": 26,
   "metadata": {},
   "outputs": [
    {
     "data": {
      "image/png": "[encoded data removed]",
      "text/plain": [
       "<Figure size 1500x500 with 3 Axes>"
      ]
     },
     "metadata": {},
     "output_type": "display_data"
    }
   ],
   "source": [
    "fig, ax= plt.subplots(ncols=3, figsize=(15, 5))\n",
    "ba.plot_p_v_loop('ao', ax=ax[0])\n",
    "ba.plot_p_v_loop('art', ax=ax[1])\n",
    "ba.plot_p_v_loop('ven', ax=ax[2])\n",
    "\n",
    "plt.show()"
   ]
  },
  {
   "cell_type": "markdown",
   "metadata": {},
   "source": [
    "We can also use the ax input to overlay multiple traces for example if we want to see for example how pressure transients relate between the different components."
   ]
  },
  {
   "cell_type": "code",
   "execution_count": 27,
   "metadata": {},
   "outputs": [
    {
     "data": {
      "image/png": "[encoded data removed]",
      "text/plain": [
       "<Figure size 1500x500 with 3 Axes>"
      ]
     },
     "metadata": {},
     "output_type": "display_data"
    }
   ],
   "source": [
    "fig, ax= plt.subplots(ncols=3, figsize=(15, 5))\n",
    "ba.plot_t_p('lv', ax=ax[0], time_units='ms')\n",
    "ba.plot_t_p('ao', ax=ax[0], time_units='ms')\n",
    "ba.plot_t_p('art', ax=ax[0], time_units='ms')\n",
    "ba.plot_t_p('ven', ax=ax[0], time_units='ms')\n",
    "\n",
    "ba.plot_t_v('lv', ax=ax[1], time_units='ms')\n",
    "ba.plot_t_v('ao', ax=ax[1], time_units='ms')\n",
    "ba.plot_t_v('art', ax=ax[1], time_units='ms')\n",
    "ba.plot_t_v('ven', ax=ax[1], time_units='ms')\n",
    "\n",
    "ba.plot_t_q_out('lv', ax=ax[2], time_units='ms')\n",
    "ba.plot_t_q_out('ao', ax=ax[2], time_units='ms')\n",
    "ba.plot_t_q_out('art', ax=ax[2], time_units='ms')\n",
    "ba.plot_t_q_out('ven', ax=ax[2], time_units='ms')\n",
    "ba.plot_t_q_out('la', ax=ax[2], time_units='ms')\n",
    "\n",
    "ax[0].legend()\n",
    "ax[2].legend()\n",
    "\n",
    "fig.tight_layout()\n",
    "plt.show()"
   ]
  },
  {
   "cell_type": "markdown",
   "metadata": {},
   "source": [
    "We can use `ba` to estimate the cardiac output predicted by the model."
   ]
  },
  {
   "cell_type": "code",
   "execution_count": 28,
   "metadata": {},
   "outputs": [
    {
     "name": "stdout",
     "output_type": "stream",
     "text": [
      "2.937201628875724\n"
     ]
    }
   ],
   "source": [
    "print(ba.compute_cardiac_output('lv'))"
   ]
  },
  {
   "cell_type": "markdown",
   "metadata": {},
   "source": [
    "We can also use it to predict the minimum and maximum pressure reached by a given component."
   ]
  },
  {
   "cell_type": "code",
   "execution_count": 29,
   "metadata": {},
   "outputs": [
    {
     "data": {
      "text/plain": [
       "(np.float64(58.927566407282335), np.float64(137.66270221293948))"
      ]
     },
     "execution_count": 29,
     "metadata": {},
     "output_type": "execute_result"
    }
   ],
   "source": [
    "ba.compute_artery_pressure_range('ao')"
   ]
  }
 ],
 "metadata": {
  "kernelspec": {
   "display_name": "venv",
   "language": "python",
   "name": "python3"
  },
  "language_info": {
   "codemirror_mode": {
    "name": "ipython",
    "version": 3
   },
   "file_extension": ".py",
   "mimetype": "text/x-python",
   "name": "python",
   "nbconvert_exporter": "python",
   "pygments_lexer": "ipython3",
   "version": "3.12.4"
  }
 },
 "nbformat": 4,
 "nbformat_minor": 2
}
