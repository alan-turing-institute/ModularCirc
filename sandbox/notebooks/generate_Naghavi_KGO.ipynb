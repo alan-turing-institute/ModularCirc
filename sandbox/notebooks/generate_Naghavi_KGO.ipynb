{
 "cells": [
  {
   "cell_type": "markdown",
   "metadata": {},
   "source": [
    "# Description\n",
    "\n",
    "This notebook is to generate known good outputs (KGOs) for solving Naghavi model after we have added a cycle step size argument to the `advance_cycle()` function of the solver.\n",
    "\n",
    "With different step sizes, there are slightly different solutions reached, so tests need these different KGOs to have as comparisons."
   ]
  },
  {
   "cell_type": "code",
   "execution_count": 8,
   "metadata": {},
   "outputs": [],
   "source": [
    "import numpy as np\n",
    "import json\n",
    "import pathlib\n",
    "import os\n",
    "\n",
    "from ModularCirc.Solver import Solver\n",
    "\n",
    "from ModularCirc.Models.NaghaviModel import NaghaviModel\n",
    "from ModularCirc.Models.NaghaviModelParameters import NaghaviModelParameters"
   ]
  },
  {
   "cell_type": "code",
   "execution_count": 9,
   "metadata": {},
   "outputs": [],
   "source": [
    "TIME_SETUP_DICT = {\n",
    "        'name'       :  'TimeTest', # the name asssociated with the temporal discretization (not super important.. names internat variable)\n",
    "        'ncycles'    :  30,         # the maximum number of cycles for which we run the simulation\n",
    "        'tcycle'     :  1000.,      # the duration of a heart beat (here in ms)\n",
    "        'dt'         :  1.0,        # the duration of a discrete time step\n",
    "        'export_min' :  2           # number of time steps for which we export the simulation (can also be used as a way to impose a minimum number of pulses)\n",
    "    }\n",
    "\n",
    "model = NaghaviModel(\n",
    "    time_setup_dict=TIME_SETUP_DICT,\n",
    "    suppress_printing=True\n",
    "    )"
   ]
  },
  {
   "cell_type": "code",
   "execution_count": 12,
   "metadata": {},
   "outputs": [
    {
     "name": "stdout",
     "output_type": "stream",
     "text": [
      "1\n",
      "3\n",
      "5\n",
      "7\n"
     ]
    }
   ],
   "source": [
    "# Start the loop with different cycle step size to generate JSON files for each loop:\n",
    "cycle_step_sizes = [1, 3, 5, 7]\n",
    "# cycle_step_sizes = [5]\n",
    "\n",
    "# Dictionary to store the results for all cycle step sizes\n",
    "all_results = {\n",
    "    \"metadata\": {\n",
    "        \"description\": \"Results for the Naghavi model for different cycle_step_size values\",\n",
    "        \"cycle_step_sizes\": cycle_step_sizes\n",
    "    },\n",
    "    \"results\": {}\n",
    "}\n",
    "\n",
    "# Loop through each cycle step size\n",
    "for cycle_step_size in cycle_step_sizes:\n",
    "\n",
    "    print(cycle_step_size)\n",
    "\n",
    "    model = NaghaviModel(\n",
    "        time_setup_dict=TIME_SETUP_DICT,\n",
    "        suppress_printing=True\n",
    "        )\n",
    "\n",
    "    # Initializing the solver\n",
    "    solver = Solver(model=model)\n",
    "\n",
    "    # Solver is being setup: switching off console printing and setting the solver method to \"LSODA\"  \n",
    "    solver.setup(\n",
    "        optimize_secondary_sv=False,\n",
    "        suppress_output=True,\n",
    "        step_tol=0.001,\n",
    "        conv_cols=['p_lv', 'v_lv'],\n",
    "        method='LSODA',\n",
    "        step=cycle_step_size\n",
    "    )    \n",
    "\n",
    "    # Running the model\n",
    "    solver.solve()\n",
    "\n",
    "    # Define the indexes of the equivalent to the last cycles\n",
    "    tind_fin = np.arange(start=model.time_object.n_t-model.time_object.n_c,\n",
    "                          stop=model.time_object.n_t)\n",
    "\n",
    "    # Dictionary to store the final cycle values for each component for the current step size\n",
    "    final_cycle_values = {}\n",
    "\n",
    "    # From each of the components, retrieve the volume (<V>), pressure (<P_i>) and flow (<Q_i>)\n",
    "    for key, value in model.components.items():\n",
    "        final_cycle_values[key] = {\n",
    "            'V': value.V.values[tind_fin].mean(),\n",
    "            'P_i': value.P_i.values[tind_fin].mean(),\n",
    "            'Q_i': value.Q_i.values[tind_fin].mean()\n",
    "        }\n",
    "\n",
    "    # Add the results for the current cycle step size to the main dictionary\n",
    "    all_results[\"results\"][cycle_step_size] = final_cycle_values\n",
    "\n",
    "# Get the base directory of the current file\n",
    "base_dir = str(pathlib.Path().resolve())\n",
    "\n",
    "output_file_path = os.path.join('../../','tests','expected_outputs','NaghaviModel_expected_output.json')\n",
    "\n",
    "# Save all results to a single JSON file in the tests/expected_outputs directory\n",
    "with open(output_file_path, 'w') as f:\n",
    "    json.dump(all_results, f, indent=4)"
   ]
  }
 ],
 "metadata": {
  "kernelspec": {
   "display_name": "venv",
   "language": "python",
   "name": "python3"
  },
  "language_info": {
   "codemirror_mode": {
    "name": "ipython",
    "version": 3
   },
   "file_extension": ".py",
   "mimetype": "text/x-python",
   "name": "python",
   "nbconvert_exporter": "python",
   "pygments_lexer": "ipython3",
   "version": "3.12.4"
  }
 },
 "nbformat": 4,
 "nbformat_minor": 2
}
