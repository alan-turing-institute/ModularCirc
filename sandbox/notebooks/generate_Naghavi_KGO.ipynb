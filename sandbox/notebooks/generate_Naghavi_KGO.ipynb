{
 "cells": [
  {
   "cell_type": "markdown",
   "metadata": {},
   "source": [
    "# Description\n",
    "\n",
    "This notebook is to generate known good outputs (KGOs) for solving Naghavi model after we have added a cycle step size argument to the `advance_cycle()` function of the solver.\n",
    "\n",
    "With different step sizes, there are slightly different solutions reached, so tests need these different KGOs to have as comparisons."
   ]
  },
  {
   "cell_type": "code",
   "execution_count": 18,
   "metadata": {},
   "outputs": [],
   "source": [
    "import numpy as np\n",
    "import json\n",
    "import pathlib\n",
    "import os\n",
    "\n",
    "from ModularCirc.Solver import Solver\n",
    "\n",
    "from ModularCirc.Models.NaghaviModel import NaghaviModel\n",
    "from ModularCirc.Models.NaghaviModelParameters import NaghaviModelParameters"
   ]
  },
  {
   "cell_type": "code",
   "execution_count": 19,
   "metadata": {},
   "outputs": [],
   "source": [
    "TIME_SETUP_DICT = {\n",
    "        'name'       :  'TimeTest', # the name asssociated with the temporal discretization (not super important.. names internat variable)\n",
    "        'ncycles'    :  30,         # the maximum number of cycles for which we run the simulation\n",
    "        'tcycle'     :  1000.,      # the duration of a heart beat (here in ms)\n",
    "        'dt'         :  1.0,        # the duration of a discrete time step\n",
    "        'export_min' :  2           # number of time steps for which we export the simulation (can also be used as a way to impose a minimum number of pulses)\n",
    "    }\n",
    "\n",
    "model = NaghaviModel(\n",
    "    time_setup_dict=TIME_SETUP_DICT,\n",
    "    suppress_printing=True\n",
    "    )"
   ]
  },
  {
   "cell_type": "code",
   "execution_count": 21,
   "metadata": {},
   "outputs": [
    {
     "name": "stdout",
     "output_type": "stream",
     "text": [
      "1\n",
      "3\n",
      "7\n"
     ]
    },
    {
     "ename": "IndexError",
     "evalue": "single positional indexer is out-of-bounds",
     "output_type": "error",
     "traceback": [
      "\u001b[0;31m---------------------------------------------------------------------------\u001b[0m",
      "\u001b[0;31mIndexError\u001b[0m                                Traceback (most recent call last)",
      "Cell \u001b[0;32mIn[21], line 33\u001b[0m\n\u001b[1;32m     23\u001b[0m solver\u001b[38;5;241m.\u001b[39msetup(\n\u001b[1;32m     24\u001b[0m     optimize_secondary_sv\u001b[38;5;241m=\u001b[39m\u001b[38;5;28;01mFalse\u001b[39;00m,\n\u001b[1;32m     25\u001b[0m     suppress_output\u001b[38;5;241m=\u001b[39m\u001b[38;5;28;01mTrue\u001b[39;00m,\n\u001b[0;32m   (...)\u001b[0m\n\u001b[1;32m     29\u001b[0m     step\u001b[38;5;241m=\u001b[39mcycle_step_size\n\u001b[1;32m     30\u001b[0m )    \n\u001b[1;32m     32\u001b[0m \u001b[38;5;66;03m# Running the model\u001b[39;00m\n\u001b[0;32m---> 33\u001b[0m \u001b[43msolver\u001b[49m\u001b[38;5;241;43m.\u001b[39;49m\u001b[43msolve\u001b[49m\u001b[43m(\u001b[49m\u001b[43m)\u001b[49m\n\u001b[1;32m     35\u001b[0m \u001b[38;5;66;03m# Define the indexes of the equivalent to the last cycles\u001b[39;00m\n\u001b[1;32m     36\u001b[0m tind_fin \u001b[38;5;241m=\u001b[39m np\u001b[38;5;241m.\u001b[39marange(start\u001b[38;5;241m=\u001b[39mmodel\u001b[38;5;241m.\u001b[39mtime_object\u001b[38;5;241m.\u001b[39mn_t\u001b[38;5;241m-\u001b[39mmodel\u001b[38;5;241m.\u001b[39mtime_object\u001b[38;5;241m.\u001b[39mn_c,\n\u001b[1;32m     37\u001b[0m                       stop\u001b[38;5;241m=\u001b[39mmodel\u001b[38;5;241m.\u001b[39mtime_object\u001b[38;5;241m.\u001b[39mn_t)\n",
      "File \u001b[0;32m~/projects/health_gc/ModularCirc/ModularCirc/Solver.py:461\u001b[0m, in \u001b[0;36mSolver.solve\u001b[0;34m(self)\u001b[0m\n\u001b[1;32m    457\u001b[0m \u001b[38;5;66;03m# Solve the main system of ODEs..\u001b[39;00m\n\u001b[1;32m    459\u001b[0m \u001b[38;5;28;01mfor\u001b[39;00m i \u001b[38;5;129;01min\u001b[39;00m \u001b[38;5;28mrange\u001b[39m(\u001b[38;5;241m0\u001b[39m, \u001b[38;5;28mself\u001b[39m\u001b[38;5;241m.\u001b[39m_to\u001b[38;5;241m.\u001b[39mncycles, \u001b[38;5;28mself\u001b[39m\u001b[38;5;241m.\u001b[39mstep): \u001b[38;5;66;03m# step is a pulse, we might wabnt to do it in all pulses\u001b[39;00m\n\u001b[1;32m    460\u001b[0m     \u001b[38;5;66;03m# print(i)\u001b[39;00m\n\u001b[0;32m--> 461\u001b[0m     y0 \u001b[38;5;241m=\u001b[39m \u001b[38;5;28;43mself\u001b[39;49m\u001b[38;5;241;43m.\u001b[39;49m\u001b[43m_asd\u001b[49m\u001b[38;5;241;43m.\u001b[39;49m\u001b[43miloc\u001b[49m\u001b[43m[\u001b[49m\u001b[43mi\u001b[49m\u001b[43m \u001b[49m\u001b[38;5;241;43m*\u001b[39;49m\u001b[43m \u001b[49m\u001b[43m(\u001b[49m\u001b[38;5;28;43mself\u001b[39;49m\u001b[38;5;241;43m.\u001b[39;49m\u001b[43m_to\u001b[49m\u001b[38;5;241;43m.\u001b[39;49m\u001b[43mn_c\u001b[49m\u001b[38;5;241;43m-\u001b[39;49m\u001b[38;5;241;43m1\u001b[39;49m\u001b[43m)\u001b[49m\u001b[43m,\u001b[49m\u001b[43m \u001b[49m\u001b[38;5;28;43mlist\u001b[39;49m\u001b[43m(\u001b[49m\u001b[38;5;28;43mself\u001b[39;49m\u001b[38;5;241;43m.\u001b[39;49m\u001b[43m_global_psv_update_fun\u001b[49m\u001b[38;5;241;43m.\u001b[39;49m\u001b[43mkeys\u001b[49m\u001b[43m(\u001b[49m\u001b[43m)\u001b[49m\u001b[43m)\u001b[49m\u001b[43m]\u001b[49m\u001b[38;5;241m.\u001b[39mto_list()\n\u001b[1;32m    462\u001b[0m     \u001b[38;5;28;01mtry\u001b[39;00m:\n\u001b[1;32m    463\u001b[0m         \u001b[38;5;66;03m# advances the cycle one step at the time, and only that step,\u001b[39;00m\n\u001b[1;32m    464\u001b[0m         \u001b[38;5;66;03m#changes are to select a range of cycles up to to ith, + dept of cycle instead of selecting that index.\u001b[39;00m\n\u001b[1;32m    465\u001b[0m         flag \u001b[38;5;241m=\u001b[39m \u001b[38;5;28mself\u001b[39m\u001b[38;5;241m.\u001b[39madvance_cycle(y0\u001b[38;5;241m=\u001b[39my0, cycleID\u001b[38;5;241m=\u001b[39mi, step\u001b[38;5;241m=\u001b[39m\u001b[38;5;28mself\u001b[39m\u001b[38;5;241m.\u001b[39mstep)\n",
      "File \u001b[0;32m~/projects/health_gc/ModularCirc/venv/lib/python3.12/site-packages/pandas/core/indexing.py:1184\u001b[0m, in \u001b[0;36m_LocationIndexer.__getitem__\u001b[0;34m(self, key)\u001b[0m\n\u001b[1;32m   1182\u001b[0m     \u001b[38;5;28;01mif\u001b[39;00m \u001b[38;5;28mself\u001b[39m\u001b[38;5;241m.\u001b[39m_is_scalar_access(key):\n\u001b[1;32m   1183\u001b[0m         \u001b[38;5;28;01mreturn\u001b[39;00m \u001b[38;5;28mself\u001b[39m\u001b[38;5;241m.\u001b[39mobj\u001b[38;5;241m.\u001b[39m_get_value(\u001b[38;5;241m*\u001b[39mkey, takeable\u001b[38;5;241m=\u001b[39m\u001b[38;5;28mself\u001b[39m\u001b[38;5;241m.\u001b[39m_takeable)\n\u001b[0;32m-> 1184\u001b[0m     \u001b[38;5;28;01mreturn\u001b[39;00m \u001b[38;5;28;43mself\u001b[39;49m\u001b[38;5;241;43m.\u001b[39;49m\u001b[43m_getitem_tuple\u001b[49m\u001b[43m(\u001b[49m\u001b[43mkey\u001b[49m\u001b[43m)\u001b[49m\n\u001b[1;32m   1185\u001b[0m \u001b[38;5;28;01melse\u001b[39;00m:\n\u001b[1;32m   1186\u001b[0m     \u001b[38;5;66;03m# we by definition only have the 0th axis\u001b[39;00m\n\u001b[1;32m   1187\u001b[0m     axis \u001b[38;5;241m=\u001b[39m \u001b[38;5;28mself\u001b[39m\u001b[38;5;241m.\u001b[39maxis \u001b[38;5;129;01mor\u001b[39;00m \u001b[38;5;241m0\u001b[39m\n",
      "File \u001b[0;32m~/projects/health_gc/ModularCirc/venv/lib/python3.12/site-packages/pandas/core/indexing.py:1690\u001b[0m, in \u001b[0;36m_iLocIndexer._getitem_tuple\u001b[0;34m(self, tup)\u001b[0m\n\u001b[1;32m   1689\u001b[0m \u001b[38;5;28;01mdef\u001b[39;00m\u001b[38;5;250m \u001b[39m\u001b[38;5;21m_getitem_tuple\u001b[39m(\u001b[38;5;28mself\u001b[39m, tup: \u001b[38;5;28mtuple\u001b[39m):\n\u001b[0;32m-> 1690\u001b[0m     tup \u001b[38;5;241m=\u001b[39m \u001b[38;5;28;43mself\u001b[39;49m\u001b[38;5;241;43m.\u001b[39;49m\u001b[43m_validate_tuple_indexer\u001b[49m\u001b[43m(\u001b[49m\u001b[43mtup\u001b[49m\u001b[43m)\u001b[49m\n\u001b[1;32m   1691\u001b[0m     \u001b[38;5;28;01mwith\u001b[39;00m suppress(IndexingError):\n\u001b[1;32m   1692\u001b[0m         \u001b[38;5;28;01mreturn\u001b[39;00m \u001b[38;5;28mself\u001b[39m\u001b[38;5;241m.\u001b[39m_getitem_lowerdim(tup)\n",
      "File \u001b[0;32m~/projects/health_gc/ModularCirc/venv/lib/python3.12/site-packages/pandas/core/indexing.py:966\u001b[0m, in \u001b[0;36m_LocationIndexer._validate_tuple_indexer\u001b[0;34m(self, key)\u001b[0m\n\u001b[1;32m    964\u001b[0m \u001b[38;5;28;01mfor\u001b[39;00m i, k \u001b[38;5;129;01min\u001b[39;00m \u001b[38;5;28menumerate\u001b[39m(key):\n\u001b[1;32m    965\u001b[0m     \u001b[38;5;28;01mtry\u001b[39;00m:\n\u001b[0;32m--> 966\u001b[0m         \u001b[38;5;28;43mself\u001b[39;49m\u001b[38;5;241;43m.\u001b[39;49m\u001b[43m_validate_key\u001b[49m\u001b[43m(\u001b[49m\u001b[43mk\u001b[49m\u001b[43m,\u001b[49m\u001b[43m \u001b[49m\u001b[43mi\u001b[49m\u001b[43m)\u001b[49m\n\u001b[1;32m    967\u001b[0m     \u001b[38;5;28;01mexcept\u001b[39;00m \u001b[38;5;167;01mValueError\u001b[39;00m \u001b[38;5;28;01mas\u001b[39;00m err:\n\u001b[1;32m    968\u001b[0m         \u001b[38;5;28;01mraise\u001b[39;00m \u001b[38;5;167;01mValueError\u001b[39;00m(\n\u001b[1;32m    969\u001b[0m             \u001b[38;5;124m\"\u001b[39m\u001b[38;5;124mLocation based indexing can only have \u001b[39m\u001b[38;5;124m\"\u001b[39m\n\u001b[1;32m    970\u001b[0m             \u001b[38;5;124mf\u001b[39m\u001b[38;5;124m\"\u001b[39m\u001b[38;5;124m[\u001b[39m\u001b[38;5;132;01m{\u001b[39;00m\u001b[38;5;28mself\u001b[39m\u001b[38;5;241m.\u001b[39m_valid_types\u001b[38;5;132;01m}\u001b[39;00m\u001b[38;5;124m] types\u001b[39m\u001b[38;5;124m\"\u001b[39m\n\u001b[1;32m    971\u001b[0m         ) \u001b[38;5;28;01mfrom\u001b[39;00m\u001b[38;5;250m \u001b[39m\u001b[38;5;21;01merr\u001b[39;00m\n",
      "File \u001b[0;32m~/projects/health_gc/ModularCirc/venv/lib/python3.12/site-packages/pandas/core/indexing.py:1592\u001b[0m, in \u001b[0;36m_iLocIndexer._validate_key\u001b[0;34m(self, key, axis)\u001b[0m\n\u001b[1;32m   1590\u001b[0m     \u001b[38;5;28;01mreturn\u001b[39;00m\n\u001b[1;32m   1591\u001b[0m \u001b[38;5;28;01melif\u001b[39;00m is_integer(key):\n\u001b[0;32m-> 1592\u001b[0m     \u001b[38;5;28;43mself\u001b[39;49m\u001b[38;5;241;43m.\u001b[39;49m\u001b[43m_validate_integer\u001b[49m\u001b[43m(\u001b[49m\u001b[43mkey\u001b[49m\u001b[43m,\u001b[49m\u001b[43m \u001b[49m\u001b[43maxis\u001b[49m\u001b[43m)\u001b[49m\n\u001b[1;32m   1593\u001b[0m \u001b[38;5;28;01melif\u001b[39;00m \u001b[38;5;28misinstance\u001b[39m(key, \u001b[38;5;28mtuple\u001b[39m):\n\u001b[1;32m   1594\u001b[0m     \u001b[38;5;66;03m# a tuple should already have been caught by this point\u001b[39;00m\n\u001b[1;32m   1595\u001b[0m     \u001b[38;5;66;03m# so don't treat a tuple as a valid indexer\u001b[39;00m\n\u001b[1;32m   1596\u001b[0m     \u001b[38;5;28;01mraise\u001b[39;00m IndexingError(\u001b[38;5;124m\"\u001b[39m\u001b[38;5;124mToo many indexers\u001b[39m\u001b[38;5;124m\"\u001b[39m)\n",
      "File \u001b[0;32m~/projects/health_gc/ModularCirc/venv/lib/python3.12/site-packages/pandas/core/indexing.py:1685\u001b[0m, in \u001b[0;36m_iLocIndexer._validate_integer\u001b[0;34m(self, key, axis)\u001b[0m\n\u001b[1;32m   1683\u001b[0m len_axis \u001b[38;5;241m=\u001b[39m \u001b[38;5;28mlen\u001b[39m(\u001b[38;5;28mself\u001b[39m\u001b[38;5;241m.\u001b[39mobj\u001b[38;5;241m.\u001b[39m_get_axis(axis))\n\u001b[1;32m   1684\u001b[0m \u001b[38;5;28;01mif\u001b[39;00m key \u001b[38;5;241m>\u001b[39m\u001b[38;5;241m=\u001b[39m len_axis \u001b[38;5;129;01mor\u001b[39;00m key \u001b[38;5;241m<\u001b[39m \u001b[38;5;241m-\u001b[39mlen_axis:\n\u001b[0;32m-> 1685\u001b[0m     \u001b[38;5;28;01mraise\u001b[39;00m \u001b[38;5;167;01mIndexError\u001b[39;00m(\u001b[38;5;124m\"\u001b[39m\u001b[38;5;124msingle positional indexer is out-of-bounds\u001b[39m\u001b[38;5;124m\"\u001b[39m)\n",
      "\u001b[0;31mIndexError\u001b[0m: single positional indexer is out-of-bounds"
     ]
    }
   ],
   "source": [
    "# Initializing the solver\n",
    "solver = Solver(model=model)\n",
    "\n",
    "# Start the loop with different cycle step size to generate JSON files for each loop:\n",
    "cycle_step_sizes = [1, 3, 7]\n",
    "# cycle_step_sizes = [5]\n",
    "\n",
    "# Dictionary to store the results for all cycle step sizes\n",
    "all_results = {\n",
    "    \"metadata\": {\n",
    "        \"description\": \"Results for the Naghavi model for different cycle_step_size values\",\n",
    "        \"cycle_step_sizes\": cycle_step_sizes\n",
    "    },\n",
    "    \"results\": {}\n",
    "}\n",
    "\n",
    "# Loop through each cycle step size\n",
    "for cycle_step_size in cycle_step_sizes:\n",
    "\n",
    "    print(cycle_step_size)\n",
    "\n",
    "    # Solver is being setup: switching off console printing and setting the solver method to \"LSODA\"  \n",
    "    solver.setup(\n",
    "        optimize_secondary_sv=False,\n",
    "        suppress_output=True,\n",
    "        step_tol=0.001,\n",
    "        conv_cols=['p_lv', 'v_lv'],\n",
    "        method='LSODA',\n",
    "        step=cycle_step_size\n",
    "    )    \n",
    "\n",
    "    # Running the model\n",
    "    solver.solve()\n",
    "\n",
    "    # Define the indexes of the equivalent to the last cycles\n",
    "    tind_fin = np.arange(start=model.time_object.n_t-model.time_object.n_c,\n",
    "                          stop=model.time_object.n_t)\n",
    "\n",
    "    # Dictionary to store the final cycle values for each component for the current step size\n",
    "    final_cycle_values = {}\n",
    "\n",
    "    # From each of the components, retrieve the volume (<V>), pressure (<P_i>) and flow (<Q_i>)\n",
    "    for key, value in model.components.items():\n",
    "        final_cycle_values[key] = {\n",
    "            'V': value.V.values[tind_fin].mean(),\n",
    "            'P_i': value.P_i.values[tind_fin].mean(),\n",
    "            'Q_i': value.Q_i.values[tind_fin].mean()\n",
    "        }\n",
    "\n",
    "    # Add the results for the current cycle step size to the main dictionary\n",
    "    all_results[\"results\"][cycle_step_size] = final_cycle_values\n",
    "\n",
    "# Get the base directory of the current file\n",
    "base_dir = str(pathlib.Path().resolve())\n",
    "\n",
    "output_file_path = os.path.join('../../','tests','expected_outputs','NaghaviModel_expected_output.json')\n",
    "\n",
    "# Save all results to a single JSON file in the tests/expected_outputs directory\n",
    "with open(output_file_path, 'w') as f:\n",
    "    json.dump(all_results, f, indent=4)"
   ]
  }
 ],
 "metadata": {
  "kernelspec": {
   "display_name": "venv",
   "language": "python",
   "name": "python3"
  },
  "language_info": {
   "codemirror_mode": {
    "name": "ipython",
    "version": 3
   },
   "file_extension": ".py",
   "mimetype": "text/x-python",
   "name": "python",
   "nbconvert_exporter": "python",
   "pygments_lexer": "ipython3",
   "version": "3.12.4"
  }
 },
 "nbformat": 4,
 "nbformat_minor": 2
}
