{
 "cells": [
  {
   "cell_type": "markdown",
   "metadata": {},
   "source": [
    "# Description\n",
    "\n",
    "This notebook is to generate known good outputs (KGOs) for solving KorakianitisMixedModel (KMM) after we have added a cycle step size argument to the `advance_cycle()` function of the solver.\n",
    "\n",
    "With different step sizes, there are slightly different solutions reached, so tests need these different KGOs to have as comparisons."
   ]
  },
  {
   "cell_type": "code",
   "execution_count": 1,
   "metadata": {},
   "outputs": [],
   "source": [
    "import numpy as np\n",
    "import json\n",
    "\n",
    "from ModularCirc.Solver import Solver\n",
    "\n",
    "from ModularCirc.Models.KorakianitisMixedModel import KorakianitisMixedModel\n",
    "from ModularCirc.Models.KorakianitisMixedModel_parameters import KorakianitisMixedModel_parameters"
   ]
  },
  {
   "cell_type": "code",
   "execution_count": null,
   "metadata": {},
   "outputs": [
    {
     "name": "stdout",
     "output_type": "stream",
     "text": [
      "Running simulation with cycle step size: 1\n",
      "Running simulation with cycle step size: 3\n",
      "Running simulation with cycle step size: 5\n",
      "Running simulation with cycle step size: 7\n"
     ]
    }
   ],
   "source": [
    "time_setup_dict = {\n",
    "            'name': 'TimeTest',\n",
    "            'ncycles': 40,\n",
    "            'tcycle': 1.0,\n",
    "            'dt': 0.001,\n",
    "            'export_min': 1\n",
    "        }\n",
    "\n",
    "# Start the loop with different cycle step size to generate JSON files for each loop:\n",
    "cycle_step_sizes = [1, 3, 5, 7]\n",
    "\n",
    "# Dictionary to store the results for all cycle step sizes\n",
    "all_results = {\n",
    "    \"metadata\": {\n",
    "        \"description\": \"Results for different cycle_step_size values\",\n",
    "        \"cycle_step_sizes\": cycle_step_sizes\n",
    "    },\n",
    "    \"results\": {}\n",
    "}\n",
    "\n",
    "# Loop through each cycle step size\n",
    "for i_cycle_step_size in cycle_step_sizes:\n",
    "\n",
    "    print(f\"Running simulation with cycle step size: {i_cycle_step_size}\")\n",
    "\n",
    "    # Initializing the parameter object\n",
    "    parobj = KorakianitisMixedModel_parameters()\n",
    "\n",
    "    # Initializing the model \n",
    "    model = KorakianitisMixedModel(time_setup_dict=time_setup_dict, \n",
    "                                parobj=parobj, \n",
    "                                suppress_printing=True)\n",
    "\n",
    "    # Initializing the solver\n",
    "    solver = Solver(model=model)\n",
    "\n",
    "    # Initializing the parameter object\n",
    "    parobj = KorakianitisMixedModel_parameters()\n",
    "\n",
    "    # Initializing the model \n",
    "    model = KorakianitisMixedModel(time_setup_dict=time_setup_dict, \n",
    "                                parobj=parobj, \n",
    "                                suppress_printing=True)\n",
    "\n",
    "    # Initializing the solver\n",
    "    solver = Solver(model=model)\n",
    "\n",
    "    # Solver is being setup: switching off console printing and setting the solver method to \"LSODA\"\n",
    "    solver.setup(suppress_output=True, \n",
    "                method='LSODA',\n",
    "                step=i_cycle_step_size)\n",
    "\n",
    "    # Running the model\n",
    "    solver.solve()\n",
    "\n",
    "    # Define the indexes of the equivalent to the last cycles\n",
    "    tind_fin  = np.arange(start=model.time_object.n_t-model.time_object.n_c,\n",
    "                        stop=model.time_object.n_t)\n",
    "\n",
    "    # Dictionary to store the final cycle values for each component for the current step size\n",
    "    final_cycle_values = {}\n",
    "\n",
    "    # From each of the components, retrieve the volume (<V>), pressure (<P_i>) and flow (<Q_i>)\n",
    "    for key, value in model.components.items():\n",
    "        final_cycle_values[key] = {\n",
    "            'V': value.V.values[tind_fin].mean(),\n",
    "            'P_i': value.P_i.values[tind_fin].mean(),\n",
    "            'Q_i': value.Q_i.values[tind_fin].mean()\n",
    "        }\n",
    "\n",
    "    # Add the results for the current cycle step size to the main dictionary\n",
    "    all_results[\"results\"][i_cycle_step_size] = final_cycle_values\n",
    "\n",
    "# Save all results to a single JSON file in the tests/expected_outputs directory\n",
    "with open('../../tests/expected_outputs/KorakianitisMixedModel_expected_output.json', 'w') as f:\n",
    "    json.dump(all_results, f, indent=4)"
   ]
  }
 ],
 "metadata": {
  "kernelspec": {
   "display_name": "venv",
   "language": "python",
   "name": "python3"
  },
  "language_info": {
   "codemirror_mode": {
    "name": "ipython",
    "version": 3
   },
   "file_extension": ".py",
   "mimetype": "text/x-python",
   "name": "python",
   "nbconvert_exporter": "python",
   "pygments_lexer": "ipython3",
   "version": "3.12.4"
  }
 },
 "nbformat": 4,
 "nbformat_minor": 2
}
