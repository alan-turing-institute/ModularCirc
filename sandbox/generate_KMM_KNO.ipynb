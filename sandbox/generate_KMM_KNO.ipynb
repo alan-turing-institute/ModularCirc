{
 "cells": [
  {
   "cell_type": "code",
   "execution_count": 1,
   "metadata": {},
   "outputs": [],
   "source": [
    "import numpy as np\n",
    "import json\n",
    "\n",
    "from ModularCirc.Solver import Solver\n",
    "\n",
    "from ModularCirc.Models.KorakianitisMixedModel import KorakianitisMixedModel\n",
    "from ModularCirc.Models.KorakianitisMixedModel_parameters import KorakianitisMixedModel_parameters"
   ]
  },
  {
   "cell_type": "code",
   "execution_count": 2,
   "metadata": {},
   "outputs": [],
   "source": [
    "time_setup_dict = {\n",
    "            'name': 'TimeTest',\n",
    "            'ncycles': 40,\n",
    "            'tcycle': 1.0,\n",
    "            'dt': 0.001,\n",
    "            'export_min': 1\n",
    "        }\n",
    "\n",
    "# Initializing the parameter object\n",
    "parobj = KorakianitisMixedModel_parameters()\n",
    "\n",
    "# Initializing the model \n",
    "model = KorakianitisMixedModel(time_setup_dict=time_setup_dict, \n",
    "                               parobj=parobj, \n",
    "                               suppress_printing=True)"
   ]
  },
  {
   "cell_type": "code",
   "execution_count": 3,
   "metadata": {},
   "outputs": [],
   "source": [
    "# Initializing the solver\n",
    "solver = Solver(model=model)\n",
    "# Solver is being setup: switching off console printing and setting the solver method to \"LSODA\"\n",
    "solver.setup(suppress_output=True, \n",
    "             method='LSODA')\n",
    "\n",
    "# Running the model\n",
    "solver.solve()"
   ]
  },
  {
   "cell_type": "code",
   "execution_count": 4,
   "metadata": {},
   "outputs": [],
   "source": [
    "final_cycle_values = {}\n",
    "\n",
    "# Define the indexes of the equivalent to the last cycles\n",
    "tind_fin  = np.arange(start=model.time_object.n_t-model.time_object.n_c,\n",
    "                      stop=model.time_object.n_t)\n",
    "\n",
    "# From each of the components, retrieve the volume (<V>), pressure (<P_i>) and flow (<Q_i>)\n",
    "for key, value in model.components.items():\n",
    "    final_cycle_values[key] = {\n",
    "        'V': value.V.values[tind_fin].mean(),\n",
    "        'P_i': value.P_i.values[tind_fin].mean(),\n",
    "        'Q_i': value.Q_i.values[tind_fin].mean()\n",
    "    }\n",
    "\n",
    "# Save the results to a JSON file in the tests/expected_outputs directory\n",
    "with open('../tests/expected_outputs/KorakianitisMixedModel_expected_output.json', 'w') as f:\n",
    "    json.dump(final_cycle_values, f, indent=4)"
   ]
  },
  {
   "cell_type": "code",
   "execution_count": 5,
   "metadata": {},
   "outputs": [],
   "source": [
    "# # Load the previous JSON file for comparison\n",
    "# with open('../tests/expected_outputs/KorakianitisMixedModel_expected_output.json', 'r') as f:\n",
    "#     previous_output = json.load(f)\n",
    "\n",
    "# # Compare the new output with the previous one\n",
    "# for key in final_cycle_values.keys():\n",
    "#     for param in ['V', 'P_i', 'Q_i']:\n",
    "#         new_value = final_cycle_values[key][param]\n",
    "#         old_value = previous_output[key][param]\n",
    "#         assert np.isclose(new_value, old_value, rtol=1e-5), f\"Mismatch in {key} for {param}: {new_value} vs {old_value}\"\n",
    "# print(\"All values match within the specified tolerance.\")\n",
    "\n",
    "# # The test is successful if no assertion errors are raised"
   ]
  }
 ],
 "metadata": {
  "kernelspec": {
   "display_name": "venv",
   "language": "python",
   "name": "python3"
  },
  "language_info": {
   "codemirror_mode": {
    "name": "ipython",
    "version": 3
   },
   "file_extension": ".py",
   "mimetype": "text/x-python",
   "name": "python",
   "nbconvert_exporter": "python",
   "pygments_lexer": "ipython3",
   "version": "3.12.4"
  }
 },
 "nbformat": 4,
 "nbformat_minor": 2
}
